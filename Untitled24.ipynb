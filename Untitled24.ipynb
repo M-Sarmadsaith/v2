{
  "nbformat": 4,
  "nbformat_minor": 0,
  "metadata": {
    "colab": {
      "provenance": [],
      "authorship_tag": "ABX9TyObH/gyGJ1n3tYbvSthg8kz",
      "include_colab_link": true
    },
    "kernelspec": {
      "name": "python3",
      "display_name": "Python 3"
    },
    "language_info": {
      "name": "python"
    }
  },
  "cells": [
    {
      "cell_type": "markdown",
      "metadata": {
        "id": "view-in-github",
        "colab_type": "text"
      },
      "source": [
        "<a href=\"https://colab.research.google.com/github/M-Sarmadsaith/v2/blob/main/Untitled24.ipynb\" target=\"_parent\"><img src=\"https://colab.research.google.com/assets/colab-badge.svg\" alt=\"Open In Colab\"/></a>"
      ]
    },
    {
      "cell_type": "code",
      "execution_count": null,
      "metadata": {
        "colab": {
          "base_uri": "https://localhost:8080/"
        },
        "id": "XZxAskOjy-Gw",
        "outputId": "c24e517a-73c1-4265-aabf-72ead58bd0e2"
      },
      "outputs": [
        {
          "output_type": "stream",
          "name": "stdout",
          "text": [
            "Deposited: 50\n",
            "Withdrew: 30\n",
            "Balance: 120\n"
          ]
        }
      ],
      "source": [
        "#Create a class BankAccount with private attribute __balance, and methods deposit() and withdraw() to demonstrate encapsulation.\n",
        "class BankAccount:\n",
        "    def __init__(self, balance=0):\n",
        "        self.__balance = balance\n",
        "\n",
        "    def deposit(self, amount):\n",
        "        self.__balance += amount\n",
        "        print(f\"Deposited: {amount}\")\n",
        "\n",
        "    def withdraw(self, amount):\n",
        "        if amount <= self.__balance:\n",
        "            self.__balance -= amount\n",
        "            print(f\"Withdrew: {amount}\")\n",
        "        else:\n",
        "            print(\"Insufficient balance\")\n",
        "\n",
        "    def get_balance(self):\n",
        "        return self.__balance\n",
        "\n",
        "account = BankAccount(100)\n",
        "account.deposit(50)\n",
        "account.withdraw(30)\n",
        "print(\"Balance:\", account.get_balance())"
      ]
    },
    {
      "cell_type": "code",
      "source": [
        "#Implement a subclass SavingsAccount that inherits BankAccount and adds an add_interest() method.\n",
        "class BankAccount:\n",
        "    def __init__(self, balance=0):\n",
        "        self.__balance = balance   # private attribute\n",
        "\n",
        "    def deposit(self, amount):\n",
        "        self.__balance += amount\n",
        "\n",
        "    def withdraw(self, amount):\n",
        "        if amount <= self.__balance:\n",
        "            self.__balance -= amount\n",
        "        else:\n",
        "            print(\"Insufficient balance\")\n",
        "\n",
        "    def get_balance(self):\n",
        "        return self.__balance\n",
        "\n",
        "class SavingsAccount(BankAccount):\n",
        "    def __init__(self, balance=0, rate=0.05):\n",
        "        super().__init__(balance)\n",
        "        self.rate = rate\n",
        "\n",
        "    def add_interest(self):\n",
        "        self.deposit(self.get_balance() * self.rate)\n",
        "\n",
        "s = SavingsAccount(1000, 0.1)\n",
        "s.deposit(500)\n",
        "s.withdraw(200)\n",
        "s.add_interest()\n",
        "print(\"Final Balance:\", s.get_balance())"
      ],
      "metadata": {
        "colab": {
          "base_uri": "https://localhost:8080/"
        },
        "id": "D3o8c8Os0uDG",
        "outputId": "5d8c264d-423d-4164-806b-315496faa092"
      },
      "execution_count": null,
      "outputs": [
        {
          "output_type": "stream",
          "name": "stdout",
          "text": [
            "Final Balance: 1430.0\n"
          ]
        }
      ]
    },
    {
      "cell_type": "code",
      "source": [
        "#Show method resolution order (MRO) using multiple inheritance: define classes A, B, C(A, B) and print C.mro().\n",
        "class A:\n",
        "    pass\n",
        "class B:\n",
        "    pass\n",
        "class C(A, B):\n",
        "    pass\n",
        "print(C.mro())"
      ],
      "metadata": {
        "colab": {
          "base_uri": "https://localhost:8080/"
        },
        "id": "hJQYmBe-3fj8",
        "outputId": "a7c7873a-5596-4803-93cc-f74846160225"
      },
      "execution_count": null,
      "outputs": [
        {
          "output_type": "stream",
          "name": "stdout",
          "text": [
            "[<class '__main__.C'>, <class '__main__.A'>, <class '__main__.B'>, <class 'object'>]\n"
          ]
        }
      ]
    },
    {
      "cell_type": "code",
      "source": [
        "#Demonstrate polymorphism: create classes Cat and Dog each with method speak(), and write a function make_speak(animal) that calls the correct method.\n",
        "class Cat:\n",
        "    def speak(self):\n",
        "        return \"Meow!\"\n",
        "class Dog:\n",
        "    def speak(self):\n",
        "        return \"Woof!\"\n",
        "def make_speak(animal):\n",
        "    print(animal.speak())\n",
        "cat = Cat()\n",
        "dog = Dog()\n",
        "make_speak(cat)\n",
        "make_speak(dog)"
      ],
      "metadata": {
        "colab": {
          "base_uri": "https://localhost:8080/"
        },
        "id": "RXQG1KSv387a",
        "outputId": "fff5863d-9383-4f29-f722-c1385f988d39"
      },
      "execution_count": null,
      "outputs": [
        {
          "output_type": "stream",
          "name": "stdout",
          "text": [
            "Meow!\n",
            "Woof!\n"
          ]
        }
      ]
    },
    {
      "cell_type": "code",
      "source": [
        "#Create a class Employee with attribute salary, then subclass Manager(Employee) and override display_salary() to add a bonus.\n",
        "class Employee:\n",
        "    def __init__(self, salary):\n",
        "        self.salary = salary\n",
        "    def display_salary(self):\n",
        "        print(\"Salary:\", self.salary)\n",
        "class Manager(Employee):\n",
        "    def __init__(self, salary, bonus):\n",
        "        super().__init__(salary)\n",
        "        self.bonus = bonus\n",
        "    def display_salary(self):\n",
        "        total = self.salary + self.bonus\n",
        "        print(\"Salary with Bonus:\", total)\n",
        "emp = Employee(40000)\n",
        "mgr = Manager(60000, 10000)\n",
        "emp.display_salary()\n",
        "mgr.display_salary()"
      ],
      "metadata": {
        "colab": {
          "base_uri": "https://localhost:8080/"
        },
        "id": "6PdXh5DM4eRT",
        "outputId": "88bde10a-7d2d-4a68-f4e5-ea171d504465"
      },
      "execution_count": null,
      "outputs": [
        {
          "output_type": "stream",
          "name": "stdout",
          "text": [
            "Salary: 40000\n",
            "Salary with Bonus: 70000\n"
          ]
        }
      ]
    },
    {
      "cell_type": "code",
      "source": [
        "#Use the super() function inside the overridden method for proper initialization and output.\n",
        "class Employee:\n",
        "    def __init__(self, salary):\n",
        "        self.salary = salary\n",
        "    def display_salary(self):\n",
        "        print(\"Salary:\", self.salary)\n",
        "class Manager(Employee):\n",
        "    def __init__(self, salary, bonus):\n",
        "        super().__init__(salary)\n",
        "        self.bonus = bonus\n",
        "    def display_salary(self):\n",
        "        super().display_salary()\n",
        "        print(\"Salary with Bonus:\", self.salary + self.bonus)\n",
        "emp = Employee(40000)\n",
        "mgr = Manager(60000, 10000)\n",
        "emp.display_salary()\n",
        "mgr.display_salary()"
      ],
      "metadata": {
        "colab": {
          "base_uri": "https://localhost:8080/"
        },
        "id": "mI6zOdam5CLU",
        "outputId": "6e4d45c9-7045-4125-af25-da86d343974a"
      },
      "execution_count": null,
      "outputs": [
        {
          "output_type": "stream",
          "name": "stdout",
          "text": [
            "Salary: 40000\n",
            "Salary: 60000\n",
            "Salary with Bonus: 70000\n"
          ]
        }
      ]
    },
    {
      "cell_type": "code",
      "source": [
        "#Implement operator overloading: define _eq_() in Employee to compare employees by salary.\n",
        "class Employee:\n",
        "    def __init__(self, salary):\n",
        "        self.salary = salary\n",
        "    def __eq__(self, other):\n",
        "        return self.salary == other.salary\n",
        "emp1 = Employee(50000)\n",
        "emp2 = Employee(60000)\n",
        "print(emp1 == emp2)"
      ],
      "metadata": {
        "colab": {
          "base_uri": "https://localhost:8080/"
        },
        "id": "ibcguoSM5oFQ",
        "outputId": "13a6d8c0-fa8b-4683-ba57-314834b1fe53"
      },
      "execution_count": null,
      "outputs": [
        {
          "output_type": "stream",
          "name": "stdout",
          "text": [
            "False\n"
          ]
        }
      ]
    },
    {
      "cell_type": "code",
      "source": [
        "#Create a class Logger and use it as a decorator to log method calls on a target class.\n",
        "class Logger:\n",
        "    def __init__(self, target):\n",
        "        self.target = target\n",
        "    def __call__(self, *args, **kwargs):\n",
        "        print(f\"Calling method: {self.target.__name__}\")\n",
        "        return self.target(*args, **kwargs)\n",
        "@Logger\n",
        "def my_method():\n",
        "    print(\"Hello, world!\")\n",
        "my_method()"
      ],
      "metadata": {
        "colab": {
          "base_uri": "https://localhost:8080/"
        },
        "id": "QgvodKtX66Hk",
        "outputId": "282321c6-4aad-4249-d2cf-2a0fe226c0ec"
      },
      "execution_count": null,
      "outputs": [
        {
          "output_type": "stream",
          "name": "stdout",
          "text": [
            "Calling method: my_method\n",
            "Hello, world!\n"
          ]
        }
      ]
    },
    {
      "cell_type": "code",
      "source": [
        "# Demonstrate dynamic attribute creation by using setattr() to add an attribute department to an instance of Employee.\n",
        "class Employee:\n",
        "    def __init__(self, name, salary):\n",
        "        self.name = name\n",
        "        self.salary = salary\n",
        "emp = Employee(\"John\", 50000)\n",
        "setattr(emp, \"department\", \"HR\")\n",
        "print(emp.name)\n",
        "print(emp.salary)\n",
        "print(emp.department)"
      ],
      "metadata": {
        "colab": {
          "base_uri": "https://localhost:8080/"
        },
        "id": "LX47zNR07MuL",
        "outputId": "e6335cdb-4a47-4d04-8375-1d9420528538"
      },
      "execution_count": null,
      "outputs": [
        {
          "output_type": "stream",
          "name": "stdout",
          "text": [
            "John\n",
            "50000\n",
            "HR\n"
          ]
        }
      ]
    },
    {
      "cell_type": "code",
      "source": [
        "#Use the built-in isinstance() and issubclass() functions in code to verify object relationships and print meaningful messages.\n",
        "class Employee:\n",
        "    pass\n",
        "class Manager(Employee):\n",
        "    pass\n",
        "emp = Employee()\n",
        "mgr = Manager()\n",
        "print(isinstance(emp, Employee))\n",
        "print(isinstance(mgr, Employee))\n",
        "print(issubclass(Manager, Employee))\n",
        "print(issubclass(Employee, Manager))\n"
      ],
      "metadata": {
        "colab": {
          "base_uri": "https://localhost:8080/"
        },
        "id": "TxchB-QJ7r6Z",
        "outputId": "499da435-7300-4af3-c408-c8b26c82354d"
      },
      "execution_count": null,
      "outputs": [
        {
          "output_type": "stream",
          "name": "stdout",
          "text": [
            "True\n",
            "True\n",
            "True\n",
            "False\n"
          ]
        }
      ]
    }
  ]
}