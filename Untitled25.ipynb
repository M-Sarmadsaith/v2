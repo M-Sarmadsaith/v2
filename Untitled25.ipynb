{
  "nbformat": 4,
  "nbformat_minor": 0,
  "metadata": {
    "colab": {
      "provenance": [],
      "authorship_tag": "ABX9TyP/b/8KU/OxGcAcmG2iRj6N",
      "include_colab_link": true
    },
    "kernelspec": {
      "name": "python3",
      "display_name": "Python 3"
    },
    "language_info": {
      "name": "python"
    }
  },
  "cells": [
    {
      "cell_type": "markdown",
      "metadata": {
        "id": "view-in-github",
        "colab_type": "text"
      },
      "source": [
        "<a href=\"https://colab.research.google.com/github/M-Sarmadsaith/v2/blob/main/Untitled25.ipynb\" target=\"_parent\"><img src=\"https://colab.research.google.com/assets/colab-badge.svg\" alt=\"Open In Colab\"/></a>"
      ]
    },
    {
      "cell_type": "code",
      "execution_count": 5,
      "metadata": {
        "colab": {
          "base_uri": "https://localhost:8080/"
        },
        "id": "3rfJrdm-UWvO",
        "outputId": "abe2ccd4-780e-4b71-cef2-11e5726cf6fb"
      },
      "outputs": [
        {
          "output_type": "stream",
          "name": "stdout",
          "text": [
            "Person(name='John', age=25, email='john@example.com')\n"
          ]
        }
      ],
      "source": [
        "#Use @dataclass to define a Person class with name, age, and email. Instantiate and display automatically generated _repr_() output.\n",
        "from dataclasses import dataclass\n",
        "\n",
        "@dataclass\n",
        "class Person:\n",
        "    name: str\n",
        "    age: int\n",
        "    email: str\n",
        "\n",
        "person1 = Person(\"John\", 25, \"john@example.com\")\n",
        "print(person1)"
      ]
    },
    {
      "cell_type": "code",
      "source": [
        "#Add default values to fields, and override _post_init_() to validate age > 0.\n",
        "from dataclasses import dataclass\n",
        "\n",
        "@dataclass\n",
        "class Person:\n",
        "    name: str = \"Unknown\"\n",
        "    age: int = 1\n",
        "    email: str = \"noemail@example.com\"\n",
        "\n",
        "    def __post_init__(self):\n",
        "        if self.age <= 0:\n",
        "            raise ValueError(\"Age must be greater than 0\")\n",
        "p1 = Person(\"Alice\", 25, \"alice@example.com\")\n",
        "print(p1)"
      ],
      "metadata": {
        "colab": {
          "base_uri": "https://localhost:8080/"
        },
        "id": "10g2hHbcVbFq",
        "outputId": "1df8d85c-bd38-43cb-e8af-0245927c49ef"
      },
      "execution_count": 8,
      "outputs": [
        {
          "output_type": "stream",
          "name": "stdout",
          "text": [
            "Person(name='Alice', age=25, email='alice@example.com')\n"
          ]
        }
      ]
    },
    {
      "cell_type": "code",
      "source": [
        "#Implement a Book dataclass with title and author, plus a classmethod from_dict() to create instances from dictionaries.\n",
        "from dataclasses import dataclass\n",
        "\n",
        "@dataclass\n",
        "class Book:\n",
        "    title: str\n",
        "    author: str\n",
        "\n",
        "    @classmethod\n",
        "    def from_dict(cls, book_dict):\n",
        "        return cls(book_dict[\"title\"], book_dict[\"author\"])\n",
        "book_data = {\"title\": \"1984\", \"author\": \"George Orwell\"}\n",
        "b1 = Book.from_dict(book_data)\n",
        "print(b1)\n",
        ""
      ],
      "metadata": {
        "colab": {
          "base_uri": "https://localhost:8080/"
        },
        "id": "HYwXkzepXNTy",
        "outputId": "e7f69673-8fea-4795-ba30-28deb0a87535"
      },
      "execution_count": 11,
      "outputs": [
        {
          "output_type": "stream",
          "name": "stdout",
          "text": [
            "Book(title='1984', author='George Orwell')\n"
          ]
        }
      ]
    },
    {
      "cell_type": "code",
      "source": [
        "#Define a metaclass TrackInstances that tracks all instances of classes using it, and apply to a sample class Tracker.\n",
        "class TrackInstancesMeta(type):\n",
        "    instances = []\n",
        "\n",
        "    def __call__(cls, *args, **kwargs):\n",
        "        instance = super().__call__(*args, **kwargs)\n",
        "        cls.instances.append(instance)\n",
        "        return instance\n",
        "    def get_instances(cls):\n",
        "        return cls.instances\n",
        "class Tracker(metaclass=TrackInstancesMeta):\n",
        "    def __init__(self, value):\n",
        "        self.value = value\n",
        "\n",
        "    def __repr__(self):\n",
        "        return f\"Tracker(value={self.value})\"\n",
        "t1 = Tracker(10)\n",
        "t2 = Tracker(20)\n",
        "print(Tracker.get_instances())"
      ],
      "metadata": {
        "colab": {
          "base_uri": "https://localhost:8080/"
        },
        "id": "u_7c5KBhXoeS",
        "outputId": "8bbb0abb-1c8d-4e94-e8cd-0838a98de4f1"
      },
      "execution_count": 14,
      "outputs": [
        {
          "output_type": "stream",
          "name": "stdout",
          "text": [
            "[Tracker(value=10), Tracker(value=20)]\n"
          ]
        }
      ]
    },
    {
      "cell_type": "code",
      "source": [
        "#Create two instances of Tracker and print a list of all tracked instances.\n",
        "class TrackInstancesMeta(type):\n",
        "    instances = []\n",
        "\n",
        "    def __call__(cls, *args, **kwargs):\n",
        "        instance = super().__call__(*args, **kwargs)\n",
        "        cls.instances.append(instance)\n",
        "        return instance\n",
        "    def get_instances(cls):\n",
        "        return cls.instances\n",
        "class Tracker(metaclass=TrackInstancesMeta):\n",
        "    def __init__(self, value):\n",
        "        self.value = value\n",
        "    def __repr__(self):\n",
        "        return f\"Tracker(value={self.value})\"\n",
        "t1 = Tracker(10)\n",
        "t2 = Tracker(20)\n",
        "print(Tracker.get_instances())"
      ],
      "metadata": {
        "colab": {
          "base_uri": "https://localhost:8080/"
        },
        "id": "hviD0Dn3YIqb",
        "outputId": "f4698967-c302-4955-a961-4e615783c822"
      },
      "execution_count": 15,
      "outputs": [
        {
          "output_type": "stream",
          "name": "stdout",
          "text": [
            "[Tracker(value=10), Tracker(value=20)]\n"
          ]
        }
      ]
    },
    {
      "cell_type": "code",
      "source": [
        "#Demonstrate frozen=True in a dataclass ImmutablePoint(x, y) and illustrate behavior upon mutation attempt (should raise an error).\n",
        "from dataclasses import dataclass\n",
        "\n",
        "@dataclass(frozen=True)\n",
        "class ImmutablePoint:\n",
        "    x: int\n",
        "    y: int\n",
        "\n",
        "point = ImmutablePoint(1, 2)\n",
        "print(point)"
      ],
      "metadata": {
        "colab": {
          "base_uri": "https://localhost:8080/"
        },
        "id": "OmdzGkmZY4J9",
        "outputId": "66587b2f-1975-4f77-fa39-e114f96f2c3b"
      },
      "execution_count": 16,
      "outputs": [
        {
          "output_type": "stream",
          "name": "stdout",
          "text": [
            "ImmutablePoint(x=1, y=2)\n"
          ]
        }
      ]
    },
    {
      "cell_type": "code",
      "source": [
        "#Use metaclass to auto-add a created_at timestamp attribute to any instance upon its creation.\n",
        "from dataclasses import dataclass\n",
        "from datetime import datetime\n",
        "class AutoTimestamp(type):\n",
        "    def __call__(cls, *args, **kwargs):\n",
        "        obj = super().__call__(*args, **kwargs)\n",
        "        obj.created_at = datetime.now()\n",
        "        return obj\n",
        "class MyClass(metaclass=AutoTimestamp):\n",
        "    def __init__(self, name):\n",
        "        self.name = name\n",
        "a = MyClass(\"Hello\")\n",
        "b = MyClass(\"World\")\n",
        "print(a.name, a.created_at)\n",
        "print(b.name, b.created_at)"
      ],
      "metadata": {
        "colab": {
          "base_uri": "https://localhost:8080/"
        },
        "id": "8hXVn_B9ZM_p",
        "outputId": "e6fc3d47-0d02-4ac9-d0c8-7f6628c30a8f"
      },
      "execution_count": 18,
      "outputs": [
        {
          "output_type": "stream",
          "name": "stdout",
          "text": [
            "Hello 2025-08-31 09:13:17.429701\n",
            "World 2025-08-31 09:13:17.429730\n"
          ]
        }
      ]
    },
    {
      "cell_type": "code",
      "source": [
        "#Create a dataclass Rectangle with width, height, and implement a area() method; override generated _eq_() for area-based equality.\n",
        "from dataclasses import dataclass\n",
        "\n",
        "@dataclass\n",
        "class Rectangle:\n",
        "    width: int\n",
        "    height: int\n",
        "    def area(self):\n",
        "        return self.width * self.height\n",
        "    def __eq__(self, other):\n",
        "        return self.area() == other.area()\n",
        "r1 = Rectangle(2, 6)\n",
        "r2 = Rectangle(3, 4)\n",
        "print(r1 == r2)"
      ],
      "metadata": {
        "colab": {
          "base_uri": "https://localhost:8080/"
        },
        "id": "8ed3Uv9RafAI",
        "outputId": "0204cf65-3494-4061-bdbd-a4e41fd11bae"
      },
      "execution_count": 20,
      "outputs": [
        {
          "output_type": "stream",
          "name": "stdout",
          "text": [
            "True\n"
          ]
        }
      ]
    },
    {
      "cell_type": "code",
      "source": [
        "#Use make_dataclass() from dataclasses module to dynamically create a class DynamicPerson with attributes first_name and last_name.\n",
        "from dataclasses import make_dataclass\n",
        "\n",
        "DynamicPerson = make_dataclass(\"DynamicPerson\", [\"first_name\", \"last_name\"])\n",
        "person = DynamicPerson(\"John\", \"Doe\")\n",
        "print(person)"
      ],
      "metadata": {
        "colab": {
          "base_uri": "https://localhost:8080/"
        },
        "id": "diTKARcta0le",
        "outputId": "17d698be-d503-46a1-b2f5-cbfd8a96a15b"
      },
      "execution_count": 21,
      "outputs": [
        {
          "output_type": "stream",
          "name": "stdout",
          "text": [
            "DynamicPerson(first_name='John', last_name='Doe')\n"
          ]
        }
      ]
    },
    {
      "cell_type": "code",
      "source": [
        "#Demonstrate runtime type-checking by inspecting _annotations_ of a dataclass.\n",
        "from dataclasses import dataclass\n",
        "\n",
        "@dataclass\n",
        "class Person:\n",
        "    name: str\n",
        "    age: int\n",
        "print(Person.__annotations__)"
      ],
      "metadata": {
        "colab": {
          "base_uri": "https://localhost:8080/"
        },
        "id": "7ltkwcaKa8Lp",
        "outputId": "37ce7beb-afee-43d0-b8a5-fe9a3d197f8e"
      },
      "execution_count": 22,
      "outputs": [
        {
          "output_type": "stream",
          "name": "stdout",
          "text": [
            "{'name': <class 'str'>, 'age': <class 'int'>}\n"
          ]
        }
      ]
    }
  ]
}