{
  "nbformat": 4,
  "nbformat_minor": 0,
  "metadata": {
    "colab": {
      "provenance": [],
      "authorship_tag": "ABX9TyPjq+WPz1jYCcNvBr5osXVV",
      "include_colab_link": true
    },
    "kernelspec": {
      "name": "python3",
      "display_name": "Python 3"
    },
    "language_info": {
      "name": "python"
    }
  },
  "cells": [
    {
      "cell_type": "markdown",
      "metadata": {
        "id": "view-in-github",
        "colab_type": "text"
      },
      "source": [
        "<a href=\"https://colab.research.google.com/github/M-Sarmadsaith/v2/blob/main/Untitled26.ipynb\" target=\"_parent\"><img src=\"https://colab.research.google.com/assets/colab-badge.svg\" alt=\"Open In Colab\"/></a>"
      ]
    },
    {
      "cell_type": "code",
      "source": [
        "#Create a User Pydantic model with fields: name (str), age (int), email (str). Validate an instance.\n",
        "from pydantic import BaseModel, EmailStr, ValidationError\n",
        "class User(BaseModel):\n",
        "    name: str\n",
        "    age: int\n",
        "    email: EmailStr\n",
        "try:\n",
        "    user = User(name=\"Alice\", age=25, email=\"alice@example.com\")\n",
        "    print(\"User instance is valid!\")\n",
        "    print(user)\n",
        "except ValidationError as e:\n",
        "    print(\"Validation error:\", e)"
      ],
      "metadata": {
        "colab": {
          "base_uri": "https://localhost:8080/"
        },
        "id": "CoS6FFT5gHkC",
        "outputId": "96b9b81c-ad9f-4370-e9d6-20a3ca71da60"
      },
      "execution_count": 3,
      "outputs": [
        {
          "output_type": "stream",
          "name": "stdout",
          "text": [
            "User instance is valid!\n",
            "name='Alice' age=25 email='alice@example.com'\n"
          ]
        }
      ]
    },
    {
      "cell_type": "code",
      "source": [
        "#Add a validator to ensure age is between 18 and 99; trigger error on invalid data.\n",
        "from pydantic import BaseModel, EmailStr, ValidationError, validator\n",
        "class User(BaseModel):\n",
        "    name: str\n",
        "    age: int\n",
        "    email: EmailStr\n",
        "    @validator('age')\n",
        "    def check_age(cls, v):\n",
        "        if v < 18 or v > 99:\n",
        "            raise ValueError('Age must be between 18 and 99')\n",
        "        return v\n",
        "try:\n",
        "    user = User(name=\"Alice\", age=25, email=\"alice@example.com\")\n",
        "    print(\"User instance is valid!\")\n",
        "    print(user)\n",
        "except ValidationError as e:\n",
        "    print(\"Validation error:\", e)"
      ],
      "metadata": {
        "colab": {
          "base_uri": "https://localhost:8080/"
        },
        "id": "6Dh89iTQghHi",
        "outputId": "316f9670-2f5a-400d-eb7a-244934154fac"
      },
      "execution_count": 4,
      "outputs": [
        {
          "output_type": "stream",
          "name": "stdout",
          "text": [
            "User instance is valid!\n",
            "name='Alice' age=25 email='alice@example.com'\n"
          ]
        },
        {
          "output_type": "stream",
          "name": "stderr",
          "text": [
            "/tmp/ipython-input-8872427.py:7: PydanticDeprecatedSince20: Pydantic V1 style `@validator` validators are deprecated. You should migrate to Pydantic V2 style `@field_validator` validators, see the migration guide for more details. Deprecated in Pydantic V2.0 to be removed in V3.0. See Pydantic V2 Migration Guide at https://errors.pydantic.dev/2.11/migration/\n",
            "  @validator('age')\n"
          ]
        }
      ]
    },
    {
      "cell_type": "code",
      "source": [
        "#Extend User with an optional field role: str = \"member\", and display the default.\n",
        "from pydantic import BaseModel, EmailStr, ValidationError, validator\n",
        "class User(BaseModel):\n",
        "    name: str\n",
        "    age: int\n",
        "    email: EmailStr\n",
        "    role: str = \"member\"\n",
        "try:\n",
        "    user = User(name=\"Alice\", age=25, email=\"alice@example.com\")\n",
        "    print(\"User instance is valid!\")\n",
        "    print(user)\n",
        "except ValidationError as e:\n",
        "    print(\"Validation error:\", e)"
      ],
      "metadata": {
        "colab": {
          "base_uri": "https://localhost:8080/"
        },
        "id": "rFprKEOYg0UB",
        "outputId": "51e92aee-5c29-472c-9e0e-6818d0d7498d"
      },
      "execution_count": 5,
      "outputs": [
        {
          "output_type": "stream",
          "name": "stdout",
          "text": [
            "User instance is valid!\n",
            "name='Alice' age=25 email='alice@example.com' role='member'\n"
          ]
        }
      ]
    },
    {
      "cell_type": "code",
      "source": [
        "# Create a generic Box[T] class storing item: T and a method get_item().\n",
        "from typing import Generic, TypeVar\n",
        "T = TypeVar('T')\n",
        "class Box(Generic[T]):\n",
        "    def __init__(self, item: T):\n",
        "        self.item = item\n",
        "    def get_item(self) -> T:\n",
        "        return self.item\n",
        "box = Box(\"Hello, World!\")\n",
        "print(box.get_item())"
      ],
      "metadata": {
        "colab": {
          "base_uri": "https://localhost:8080/"
        },
        "id": "rQ2QLZSvhMah",
        "outputId": "f258db0d-1b7f-47f1-fa83-41438c377e6c"
      },
      "execution_count": 6,
      "outputs": [
        {
          "output_type": "stream",
          "name": "stdout",
          "text": [
            "Hello, World!\n"
          ]
        }
      ]
    },
    {
      "cell_type": "code",
      "source": [
        "# Instantiate Box[int] and Box[str] to demonstrate usage.\n",
        "from typing import Generic, TypeVar\n",
        "T = TypeVar('T')\n",
        "class Box(Generic[T]):\n",
        "    def __init__(self, item: T):\n",
        "        self.item = item\n",
        "    def get_item(self) -> T:\n",
        "        return self.item\n",
        "box_int = Box(10)\n",
        "box_str = Box(\"Hello, World!\")\n",
        "print(box_int.get_item())\n",
        "print(box_str.get_item())"
      ],
      "metadata": {
        "colab": {
          "base_uri": "https://localhost:8080/"
        },
        "id": "iFcrYgy6hSwT",
        "outputId": "919d72c0-ac1d-45d4-847d-423709e3444d"
      },
      "execution_count": 7,
      "outputs": [
        {
          "output_type": "stream",
          "name": "stdout",
          "text": [
            "10\n",
            "Hello, World!\n"
          ]
        }
      ]
    },
    {
      "cell_type": "code",
      "source": [
        "#Use a Pydantic List[User] to validate a list of user dictionaries.\n",
        "from pydantic import BaseModel, EmailStr, ValidationError\n",
        "\n",
        "# User model\n",
        "class User(BaseModel):\n",
        "    name: str\n",
        "    age: int\n",
        "    email: EmailStr\n",
        "\n",
        "# List of users\n",
        "users_data = [\n",
        "    {\"name\": \"Alice\", \"age\": 25, \"email\": \"alice@example.com\"},\n",
        "    {\"name\": \"Bob\", \"age\": 30, \"email\": \"bob@example.com\"}\n",
        "]\n",
        "\n",
        "# Validate and print\n",
        "for data in users_data:\n",
        "    try:\n",
        "        user = User(**data)\n",
        "        print(\"Valid user:\", user)\n",
        "    except ValidationError as e:\n",
        "        print(\"Error:\", e)"
      ],
      "metadata": {
        "colab": {
          "base_uri": "https://localhost:8080/"
        },
        "id": "Zxp2uG4Zhqwj",
        "outputId": "9ef80e50-3f2c-4f02-c2f6-936eeee4174f"
      },
      "execution_count": 8,
      "outputs": [
        {
          "output_type": "stream",
          "name": "stdout",
          "text": [
            "Valid user: name='Alice' age=25 email='alice@example.com'\n",
            "Valid user: name='Bob' age=30 email='bob@example.com'\n"
          ]
        }
      ]
    },
    {
      "cell_type": "code",
      "source": [
        "#Define a Pydantic GenericModel Response[T] with data: T, success: bool, and test with T = User.\n",
        "from pydantic import BaseModel, EmailStr\n",
        "from pydantic.generics import GenericModel\n",
        "from typing import TypeVar, Generic\n",
        "T = TypeVar('T')\n",
        "class Response(GenericModel, Generic[T]):\n",
        "    data: T\n",
        "    success: bool\n",
        "class User(BaseModel):\n",
        "    name: str\n",
        "    age: int\n",
        "    email: EmailStr\n",
        "response = Response(\n",
        "    data=User(name=\"Alice\", age=25, email=\"alice@example.com\"),\n",
        "    success=True\n",
        ")\n",
        "# Print the response\n",
        "print(response)"
      ],
      "metadata": {
        "colab": {
          "base_uri": "https://localhost:8080/"
        },
        "id": "LNban5dYiIPB",
        "outputId": "1b9fa8a0-5d02-4ee0-99eb-c0897c50e71d"
      },
      "execution_count": 11,
      "outputs": [
        {
          "output_type": "stream",
          "name": "stdout",
          "text": [
            "data=User(name='Alice', age=25, email='alice@example.com') success=True\n"
          ]
        }
      ]
    },
    {
      "cell_type": "code",
      "source": [
        "#Serialize a Response[User] to JSON and print.\n",
        "from pydantic import BaseModel, EmailStr\n",
        "from pydantic.generics import GenericModel\n",
        "from typing import TypeVar, Generic\n",
        "T = TypeVar('T')\n",
        "class Response(GenericModel, Generic[T]):\n",
        "    data: T\n",
        "    success: bool\n",
        "class User(BaseModel):\n",
        "    name: str\n",
        "    age: int\n",
        "    email: EmailStr\n",
        "response = Response(\n",
        "    data=User(name=\"Alice\", age=25, email=\"alice@example.com\"),\n",
        "    success=True\n",
        ")\n",
        "print(response.json())"
      ],
      "metadata": {
        "colab": {
          "base_uri": "https://localhost:8080/"
        },
        "id": "-iB7nenTjOhk",
        "outputId": "11d01086-d9b9-4f4a-d8de-3503de6f4e49"
      },
      "execution_count": 12,
      "outputs": [
        {
          "output_type": "stream",
          "name": "stdout",
          "text": [
            "{\"data\":{\"name\":\"Alice\",\"age\":25,\"email\":\"alice@example.com\"},\"success\":true}\n"
          ]
        },
        {
          "output_type": "stream",
          "name": "stderr",
          "text": [
            "/tmp/ipython-input-2001499665.py:17: PydanticDeprecatedSince20: The `json` method is deprecated; use `model_dump_json` instead. Deprecated in Pydantic V2.0 to be removed in V3.0. See Pydantic V2 Migration Guide at https://errors.pydantic.dev/2.11/migration/\n",
            "  print(response.json())\n"
          ]
        }
      ]
    },
    {
      "cell_type": "code",
      "source": [
        "#Add custom validation to ensure that email contains \"@\" using Pydantic @validator.\n",
        "from pydantic import BaseModel, EmailStr, ValidationError, field_validator\n",
        "\n",
        "class User(BaseModel):\n",
        "    name: str\n",
        "    age: int\n",
        "    email: EmailStr\n",
        "\n",
        "    @field_validator('email')\n",
        "    @classmethod\n",
        "    def email_must_have_at(cls, value):\n",
        "        if \"@\" not in value:\n",
        "            raise ValueError('Email must contain \"@\"')\n",
        "        return value\n",
        "\n",
        "try:\n",
        "    user = User(name=\"Alice\", age=25, email=\"alice@example.com\")\n",
        "    print(\"Valid user:\", user)\n",
        "except ValidationError as e:\n",
        "    print(e)\n",
        "\n",
        "try:\n",
        "    user2 = User(name=\"Bob\", age=30, email=\"bobexample.com\")\n",
        "except ValidationError as e:\n",
        "    print(\"\\nValidation error:\", e)"
      ],
      "metadata": {
        "colab": {
          "base_uri": "https://localhost:8080/"
        },
        "id": "QM1Jt9o7j_iD",
        "outputId": "5cc74242-763b-484d-d44c-7a35b9eefa54"
      },
      "execution_count": 16,
      "outputs": [
        {
          "output_type": "stream",
          "name": "stdout",
          "text": [
            "Valid user: name='Alice' age=25 email='alice@example.com'\n",
            "\n",
            "Validation error: 1 validation error for User\n",
            "email\n",
            "  value is not a valid email address: An email address must have an @-sign. [type=value_error, input_value='bobexample.com', input_type=str]\n"
          ]
        },
        {
          "output_type": "stream",
          "name": "stderr",
          "text": [
            "/tmp/ipython-input-1478841342.py:8: PydanticDeprecatedSince20: Pydantic V1 style `@validator` validators are deprecated. You should migrate to Pydantic V2 style `@field_validator` validators, see the migration guide for more details. Deprecated in Pydantic V2.0 to be removed in V3.0. See Pydantic V2 Migration Guide at https://errors.pydantic.dev/2.11/migration/\n",
            "  @validator('email')\n"
          ]
        }
      ]
    }
  ]
}