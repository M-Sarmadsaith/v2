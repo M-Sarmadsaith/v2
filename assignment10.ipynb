{
 "cells": [
  {
   "cell_type": "code",
   "execution_count": 2,
   "id": "a034b523",
   "metadata": {},
   "outputs": [
    {
     "name": "stdout",
     "output_type": "stream",
     "text": [
      "Value: 25, Type: <class 'int'>\n",
      "Label: Not greater than 30\n",
      "Value: 35, Type: <class 'int'>\n",
      "Label: Greater than 30\n",
      "Value: 50, Type: <class 'int'>\n",
      "Label: Greater than 30\n"
     ]
    }
   ],
   "source": [
    "# 𝗖𝗿𝗲𝗮𝘁𝗲 𝗮 𝗹𝗶𝘀𝘁 [\"𝟭𝟱\", \"𝟮𝟱\", \"𝟰𝟬\"]. 𝗖𝗼𝗻𝘃𝗲𝗿𝘁 𝗲𝗮𝗰𝗵 𝘁𝗼 int, 𝗮𝗱𝗱 𝟭𝟬, 𝘀𝘁𝗼𝗿𝗲 𝗶𝗻 𝗮 𝗻𝗲𝘄 tuple. 𝗣𝗿𝗶𝗻𝘁 𝗲𝗮𝗰𝗵 𝗲𝗹𝗲𝗺𝗲𝗻𝘁 𝗮𝗻𝗱 𝘁𝘆𝗽𝗲, 𝗮𝗻𝗱 𝗹𝗮𝗯𝗲𝗹 𝘃𝗮𝗹𝘂𝗲𝘀 > 𝟯𝟬 𝘂𝘀𝗶𝗻𝗴 if-else.\n",
    "list=[\"15\",\"25\",\"40\"]\n",
    "new_tuple=tuple(int(num)+10 for num in list)\n",
    "for value in new_tuple:\n",
    "    print(f\"Value: {value}, Type: {type(value)}\")\n",
    "    if value > 30:\n",
    "        print(\"Label: Greater than 30\")\n",
    "    else:\n",
    "        print(\"Label: Not greater than 30\")"
   ]
  },
  {
   "cell_type": "code",
   "execution_count": 2,
   "id": "7a417560",
   "metadata": {},
   "outputs": [
    {
     "name": "stdout",
     "output_type": "stream",
     "text": [
      "{'name': 'Sarmad', 'age_str': 18, 'city': 'Gujranwala'}\n",
      "('Sarmad', 18, 'Gujranwala')\n",
      "eligible to vote\n",
      "not eligible to vote\n"
     ]
    }
   ],
   "source": [
    "#𝗧𝗮𝗸𝗲 𝘂𝘀𝗲𝗿 𝗶𝗻𝗽𝘂𝘁 𝗳𝗼𝗿 𝗻𝗮𝗺𝗲, 𝗮𝗴𝗲 (𝗮𝘀 𝘀𝘁𝗿𝗶𝗻𝗴), 𝗮𝗻𝗱 𝗰𝗶𝘁𝘆. 𝗖𝗼𝗻𝘃𝗲𝗿𝘁 𝗮𝗴𝗲 𝘁𝗼 int, 𝗮𝗱𝗱 𝗶𝗻𝘁𝗼 𝗱𝗶𝗰𝘁 & tuple, 𝗰𝗵𝗲𝗰𝗸 𝗲𝗹𝗶𝗴𝗶𝗯𝗶𝗹𝗶𝘁𝘆 𝗳𝗼𝗿 𝘃𝗼𝘁𝗶𝗻𝗴.\n",
    "name=\"Sarmad\"\n",
    "age_str=18\n",
    "city=\"Gujranwala\"\n",
    "age_str=int(age_str)\n",
    "user_dict = {\"name\": name,\"age_str\": age_str,\"city\": city}\n",
    "tuple=(name,age_str,city)\n",
    "print(user_dict)\n",
    "print(tuple)\n",
    "if age_str >= 18:\n",
    "    print(\"eligible to vote\")\n",
    "    print(\"not eligible to vote\")"
   ]
  },
  {
   "cell_type": "code",
   "execution_count": 7,
   "id": "4af5cc9f",
   "metadata": {},
   "outputs": [
    {
     "name": "stdout",
     "output_type": "stream",
     "text": [
      "Mark: 55 (<class 'int'>) => Result: Pass (<class 'str'>)\n",
      "Mark: 45 (<class 'int'>) => Result: Fail (<class 'str'>)\n",
      "Mark: 55 (<class 'int'>) => Result: Pass (<class 'str'>)\n",
      "Mark: 45 (<class 'int'>) => Result: Fail (<class 'str'>)\n",
      "Mark: 85 (<class 'int'>) => Result: Pass (<class 'str'>)\n",
      "Mark: 35 (<class 'int'>) => Result: Fail (<class 'str'>)\n"
     ]
    }
   ],
   "source": [
    "# 𝗖𝗿𝗲𝗮𝘁𝗲 𝗮 𝗹𝗶𝘀𝘁 [\"𝟱𝟱\", \"𝟰𝟱\", \"𝟴𝟱\", \"𝟯𝟱\"]. 𝗖𝗼𝗻𝘃𝗲𝗿𝘁 𝘁𝗼 int, 𝗰𝗹𝗮𝘀𝘀𝗶𝗳𝘆 𝗮𝘀 \"𝗣𝗮𝘀𝘀\"/\"𝗙𝗮𝗶𝗹\" 𝘂𝘀𝗶𝗻𝗴 if-else, 𝘀𝘁𝗼𝗿𝗲 𝗶𝗻 𝗱𝗶𝗰𝘁, 𝗽𝗿𝗶𝗻𝘁 𝗲𝗮𝗰𝗵 𝘄𝗶𝘁𝗵 type().\n",
    "marks= [\"55\",\"45\",\"85\",\"35\"]\n",
    "result={}\n",
    "for mark in marks:\n",
    "    num = int(mark)\n",
    "    if num >= 50:\n",
    "        result[num] = \"Pass\"\n",
    "    else:\n",
    "        result[num] = \"Fail\"\n",
    "        for key, value in result.items():\n",
    "         print(f\"Mark: {key} ({type(key)}) => Result: {value} ({type(value)})\")\n",
    "\n"
   ]
  },
  {
   "cell_type": "code",
   "execution_count": 13,
   "id": "75a14630",
   "metadata": {},
   "outputs": [
    {
     "name": "stdout",
     "output_type": "stream",
     "text": [
      "name: Farah\n",
      "age: 20\n",
      "score: 93.5\n"
     ]
    }
   ],
   "source": [
    "# 𝗗𝗲𝗳𝗶𝗻𝗲 𝗮 tuple (\"𝗙𝗮𝗿𝗮𝗵\", \"𝟮𝟬\", \"𝟴𝟴.𝟱\"). 𝗖𝗮𝘀𝘁 𝗮𝗴𝗲 𝘁𝗼 int, 𝘀𝗰𝗼𝗿𝗲 𝘁𝗼 float, 𝗮𝗱𝗱 𝟱 𝘁𝗼 𝘀𝗰𝗼𝗿𝗲, 𝗽𝘂𝘁 𝗶𝗻 𝗱𝗶𝗰𝘁, 𝗽𝗿𝗶𝗻𝘁 𝘂𝘀𝗶𝗻𝗴 𝗹𝗼𝗼𝗽.\n",
    "data = (\"Farah\", \"20\", \"88.5\")\n",
    "name = data[0]\n",
    "age = int(data[1])\n",
    "score = float(data[2]) + 5\n",
    "info = {\"name\": name,\"age\": age,\"score\": score}\n",
    "for key, value in info.items():\n",
    "    print(f\"{key}: {value}\")"
   ]
  },
  {
   "cell_type": "code",
   "execution_count": 14,
   "id": "2cc02df5",
   "metadata": {},
   "outputs": [
    {
     "name": "stdout",
     "output_type": "stream",
     "text": [
      "Names longer than 4 letters: 1\n",
      "Ana ➝ Length: 3, Label: short\n",
      "Sana ➝ Length: 4, Label: short\n",
      "Salman ➝ Length: 6, Label: medium\n"
     ]
    }
   ],
   "source": [
    "#  𝗟𝗶𝘀𝘁 𝗼𝗳 𝗻𝗮𝗺𝗲𝘀 = [\"𝗔𝗻𝗮\", \"𝗦𝗮𝗻𝗮\", \"𝗦𝗮𝗹𝗺𝗮𝗻\"]. 𝗖𝗼𝘂𝗻𝘁 𝗻𝗮𝗺𝗲𝘀 > 𝟰 𝗹𝗲𝘁𝘁𝗲𝗿𝘀. 𝗖𝗿𝗲𝗮𝘁𝗲 𝗱𝗶𝗰𝘁: 𝗻𝗮𝗺𝗲 ➝ 𝗹𝗲𝗻𝗴𝘁𝗵, 𝗹𝗮𝗯𝗲𝗹 𝗮𝘀 \"𝘀𝗵𝗼𝗿𝘁\"/\"𝗺𝗲𝗱𝗶𝘂𝗺\"/\"𝗹𝗼𝗻𝗴\".\n",
    "names = [\"Ana\", \"Sana\", \"Salman\"]\n",
    "count = sum(1 for name in names if len(name) > 4)\n",
    "print(f\"Names longer than 4 letters: {count}\")\n",
    "name_info = {}\n",
    "for name in names:\n",
    "    length = len(name)\n",
    "    if length <= 4:\n",
    "        label = \"short\"\n",
    "    elif length <= 6:\n",
    "        label = \"medium\"\n",
    "    else:\n",
    "        label = \"long\"\n",
    "    \n",
    "    name_info[name] = {\"length\": length, \"label\": label}\n",
    "for name, details in name_info.items():\n",
    "    print(f\"{name} ➝ Length: {details['length']}, Label: {details['label']}\")\n"
   ]
  },
  {
   "cell_type": "code",
   "execution_count": 18,
   "id": "3d934545",
   "metadata": {},
   "outputs": [
    {
     "name": "stdout",
     "output_type": "stream",
     "text": [
      "Pen: $10.0\n",
      "Bag: $120.0 🔥\n",
      "Shoes: $85.0\n"
     ]
    }
   ],
   "source": [
    "# 𝗜𝗻𝗽𝘂𝘁 𝗽𝗿𝗼𝗱𝘂𝗰𝘁 𝗻𝗮𝗺𝗲𝘀 & 𝗽𝗿𝗶𝗰𝗲𝘀 (𝗮𝘀 𝘀𝘁𝗿𝗶𝗻𝗴𝘀). 𝗖𝗮𝘀𝘁 𝗽𝗿𝗶𝗰𝗲𝘀 𝘁𝗼 float, 𝗽𝘂𝘁 𝗶𝗻 𝗱𝗶𝗰𝘁, 𝗽𝗿𝗶𝗻𝘁 𝘄𝗶𝘁𝗵 if 𝗵𝗶𝗴𝗵𝗹𝗶𝗴𝗵𝘁𝗶𝗻𝗴 𝗶𝘁𝗲𝗺𝘀 > 𝟭𝟬𝟬.\n",
    "names = [\"Pen\", \"Bag\", \"Shoes\"]\n",
    "prices = [float(p) for p in [\"10\", \"120\", \"85\"]]\n",
    "products = dict(zip(names, prices))\n",
    "for name, price in products.items():\n",
    "    print(f\"{name}: ${price}\" + (\" 🔥\" if price > 100 else \"\"))\n"
   ]
  },
  {
   "cell_type": "code",
   "execution_count": 19,
   "id": "86484efa",
   "metadata": {},
   "outputs": [
    {
     "name": "stdout",
     "output_type": "stream",
     "text": [
      "100.0 ➝ Below 250\n",
      "200.0 ➝ Below 250\n",
      "300.5 ➝ Above 250\n",
      "400.0 ➝ Above 250\n"
     ]
    }
   ],
   "source": [
    "# 𝗠𝗶𝘅𝗲𝗱 𝗹𝗶𝘀𝘁 = [\"𝟭𝟬𝟬\", 𝟮𝟬𝟬, 𝟯𝟬𝟬.𝟱, \"𝟰𝟬𝟬\"]. 𝗖𝗼𝗻𝘃𝗲𝗿𝘁 𝘁𝗼 float, 𝗽𝗿𝗶𝗻𝘁 𝗮𝗻𝗱 𝗰𝗮𝘁𝗲𝗴𝗼𝗿𝗶𝘇𝗲 𝗮𝘀 \"𝗔𝗯𝗼𝘃𝗲 𝟮𝟱𝟬\"/\"𝗕𝗲𝗹𝗼𝘄 𝟮𝟱𝟬\".\n",
    "mixed = [\"100\", 200, 300.5, \"400\"]\n",
    "for item in mixed:\n",
    "    value = float(item)\n",
    "    category = \"Above 250\" if value > 250 else \"Below 250\"\n",
    "    print(f\"{value} ➝ {category}\")"
   ]
  },
  {
   "cell_type": "code",
   "execution_count": 27,
   "id": "7bdde168",
   "metadata": {},
   "outputs": [
    {
     "name": "stdout",
     "output_type": "stream",
     "text": [
      "name: Ali\n",
      "age: 25\n",
      "student: False\n",
      "Student status\n"
     ]
    }
   ],
   "source": [
    "# 𝗧𝘂𝗽𝗹𝗲 = (\"𝗔𝗹𝗶\", \"𝟮𝟱\", \"𝗧𝗿𝘂𝗲\"). 𝗖𝗼𝗻𝘃𝗲𝗿𝘁 𝗮𝗴𝗲 𝘁𝗼 int, 𝘀𝘁𝗿𝗶𝗻𝗴 𝗧𝗿𝘂𝗲 𝘁𝗼 bool, 𝘀𝘁𝗼𝗿𝗲 𝗶𝗻 𝗱𝗶𝗰𝘁, 𝗽𝗿𝗶𝗻𝘁 𝗸𝗲𝘆-𝘃𝗮𝗹𝘂𝗲𝘀 𝘄𝗶𝘁𝗵 𝘀𝘁𝘂𝗱𝗲𝗻𝘁 𝗰𝗵𝗲𝗰𝗸.\n",
    "tuple=(\"Ali\",\"25\",\"true\")\n",
    "dict={\"name\": tuple[0], \"age\": int(tuple[1]), \"student\": tuple[2] == \"True\"}\n",
    "for k, v in dict.items():\n",
    "    print(f\"{k}: {v}\")\n",
    "print(\"Student status\" if dict[\"student\"] else \"Student status\")"
   ]
  },
  {
   "cell_type": "code",
   "execution_count": 36,
   "id": "d089d762",
   "metadata": {},
   "outputs": [
    {
     "name": "stdout",
     "output_type": "stream",
     "text": [
      "Total: 175, Avg: 87.5, Grade: B\n"
     ]
    }
   ],
   "source": [
    "# 𝗦𝘂𝗯𝗷𝗲𝗰𝘁𝘀 𝗱𝗶𝗰𝘁 = {\"𝗠𝗮𝘁𝗵\": \"𝟵𝟬\", \"𝗘𝗻𝗴𝗹𝗶𝘀𝗵\": \"𝟴𝟱\"}. 𝗖𝗼𝗻𝘃𝗲𝗿𝘁 𝘁𝗼 int, 𝗰𝗮𝗹𝗰𝘂𝗹𝗮𝘁𝗲 𝘁𝗼𝘁𝗮𝗹 & 𝗮𝘃𝗲𝗿𝗮𝗴𝗲, 𝗮𝘀𝘀𝗶𝗴𝗻 𝗴𝗿𝗮𝗱𝗲𝘀 𝘂𝘀𝗶𝗻𝗴 if-elif-else.\n",
    "d = {\"Math\": \"90\", \"English\": \"85\"}\n",
    "a, b = int(d[\"Math\"]), int(d[\"English\"])\n",
    "avg = (a + b) / 2\n",
    "g = \"A\" if avg >= 90 else \"B\" if avg >= 75 else \"C\" if avg >= 60 else \"D\"\n",
    "print(f\"Total: {a + b}, Avg: {avg}, Grade: {g}\")"
   ]
  },
  {
   "cell_type": "code",
   "execution_count": 24,
   "id": "6827ea7c",
   "metadata": {},
   "outputs": [
    {
     "name": "stdout",
     "output_type": "stream",
     "text": [
      "Gadgets List: ['laptop', 'phone', 'SPEAKER', 'watch', 'camera']\n",
      "Gadgets List: ['laptop', 'phone', 'SPEAKER', 'watch', 'camera']\n",
      "Gadgets List: ['laptop', 'phone', 'SPEAKER', 'watch', 'camera']\n",
      "Prices List: [75000, 50000, 15000, 800, 18000]\n",
      "Total Price: 158800\n",
      "Item Classification:\n",
      "laptop: Expensive\n",
      "phone: Expensive\n",
      "SPEAKER: Affordable\n",
      "watch: Affordable\n",
      "camera: Affordable\n"
     ]
    }
   ],
   "source": [
    "# 𝗔𝘀𝗸 𝘂𝘀𝗲𝗿 𝗳𝗼𝗿 𝟱 𝗴𝗮𝗱𝗴𝗲𝘁 𝗻𝗮𝗺𝗲𝘀 (𝘀𝘁𝗿𝗶𝗻𝗴𝘀), 𝗰𝗼𝗻𝘃𝗲𝗿𝘁 𝟯𝗿𝗱 𝘁𝗼 uppercase(), 𝘀𝘁𝗼𝗿𝗲 𝗽𝗿𝗶𝗰𝗲𝘀 𝗶𝗻 𝗮𝗻𝗼𝘁𝗵𝗲𝗿 𝗹𝗶𝘀𝘁, 𝗰𝗮𝗹𝗰𝘂𝗹𝗮𝘁𝗲 𝘁𝗼𝘁𝗮𝗹 & 𝗳𝗹𝗮𝗴 𝗲𝘅𝗽𝗲𝗻𝘀𝗶𝘃𝗲 𝗶𝘁𝗲𝗺𝘀 𝗶𝗻 𝗱𝗶𝗰𝘁.\n",
    "gadgets=[\"laptop\",\"phone\",\"speaker\",\"watch\",\"camera\"]\n",
    "gadgets[2]=gadgets[2].upper()\n",
    "prices=[\"75000\",\"50000\",\"15000\",\"800\",\"18000\"]\n",
    "prices = [int(p) for p in prices]\n",
    "total=sum(prices) \n",
    "expensive_items = {}\n",
    "for i in range(5):\n",
    "    if prices[i] >= 50000:\n",
    "        expensive_items[gadgets[i]] = \"Expensive\"\n",
    "    else:\n",
    "        expensive_items[gadgets[i]] = \"Affordable\"\n",
    "        print(\"Gadgets List:\", gadgets)\n",
    "print(\"Prices List:\", prices)\n",
    "print(\"Total Price:\", total)\n",
    "print(\"Item Classification:\")\n",
    "for gadget, status in expensive_items.items():\n",
    "    print(f\"{gadget}: {status}\")"
   ]
  }
 ],
 "metadata": {
  "kernelspec": {
   "display_name": ".venv",
   "language": "python",
   "name": "python3"
  },
  "language_info": {
   "codemirror_mode": {
    "name": "ipython",
    "version": 3
   },
   "file_extension": ".py",
   "mimetype": "text/x-python",
   "name": "python",
   "nbconvert_exporter": "python",
   "pygments_lexer": "ipython3",
   "version": "3.13.5"
  }
 },
 "nbformat": 4,
 "nbformat_minor": 5
}
