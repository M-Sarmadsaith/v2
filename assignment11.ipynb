{
 "cells": [
  {
   "cell_type": "code",
   "execution_count": 8,
   "id": "0ce66640",
   "metadata": {},
   "outputs": [
    {
     "name": "stdout",
     "output_type": "stream",
     "text": [
      "{40, 10, 50, 20, 60, 30}\n"
     ]
    }
   ],
   "source": [
    "# 𝗖𝗿𝗲𝗮𝘁𝗲 𝗮 𝘀𝗲𝘁 {𝟭𝟬, 𝟮𝟬, 𝟯𝟬}, 𝘂𝘀𝗲 add() 𝘁𝗼 𝗮𝗱𝗱 𝟱𝟬, 𝘁𝗵𝗲𝗻 update() 𝘄𝗶𝘁𝗵 𝗮 𝗹𝗶𝘀𝘁 [𝟰𝟬, 𝟲𝟬]. 𝗣𝗿𝗶𝗻𝘁 𝘁𝗵𝗲 𝗳𝗶𝗻𝗮𝗹 𝘀𝗲𝘁.\n",
    "sets={10,20,30}\n",
    "sets.add(50)\n",
    "sets.update([40,60])\n",
    "print(sets)\n"
   ]
  },
  {
   "cell_type": "code",
   "execution_count": 12,
   "id": "b66a5d5a",
   "metadata": {},
   "outputs": [
    {
     "name": "stdout",
     "output_type": "stream",
     "text": [
      "{'apple', 'cherry'}\n"
     ]
    }
   ],
   "source": [
    "# 𝗖𝗿𝗲𝗮𝘁𝗲 𝗮 𝘀𝗲𝘁 𝗼𝗳 𝗳𝗿𝘂𝗶𝘁𝘀 {“𝗮𝗽𝗽𝗹𝗲”, “𝗯𝗮𝗻𝗮𝗻𝗮”, “𝗰𝗵𝗲𝗿𝗿𝘆”}, 𝗿𝗲𝗺𝗼𝘃𝗲 \"𝗯𝗮𝗻𝗮𝗻𝗮\" 𝘄𝗶𝘁𝗵 remove() 𝗮𝗻𝗱 \"𝗼𝗿𝗮𝗻𝗴𝗲\" 𝘄𝗶𝘁𝗵 discard(). 𝗢𝗯𝘀𝗲𝗿𝘃𝗲 𝘁𝗵𝗲 𝗱𝗶𝗳𝗳𝗲𝗿𝗲𝗻𝗰𝗲 𝗶𝗻 𝗲𝗿𝗿𝗼𝗿 𝗵𝗮𝗻𝗱𝗹𝗶𝗻𝗴.\n",
    "fruits={\"apple\",\"banana\",\"cherry\"}\n",
    "fruits_removed=fruits.remove(\"banana\")\n",
    "fruits_discard=fruits.discard(\"orange\")\n",
    "print(fruits)"
   ]
  },
  {
   "cell_type": "code",
   "execution_count": 19,
   "id": "948531dc",
   "metadata": {},
   "outputs": [
    {
     "name": "stdout",
     "output_type": "stream",
     "text": [
      "{'blue', 'green'}\n"
     ]
    }
   ],
   "source": [
    "# 𝗖𝗿𝗲𝗮𝘁𝗲 𝘀𝗲𝘁 {“𝗿𝗲𝗱”, “𝗴𝗿𝗲𝗲𝗻”, “𝗯𝗹𝘂𝗲”}. 𝗥𝗲𝗺𝗼𝘃𝗲 𝗼𝗻𝗲 𝗶𝘁𝗲𝗺 𝘄𝗶𝘁𝗵 pop() 𝘁𝗵𝗲𝗻 𝗲𝗺𝗽𝘁𝘆 𝘁𝗵𝗲 𝘀𝗲𝘁 𝘄𝗶𝘁𝗵 clear(). 𝗣𝗿𝗶𝗻𝘁 𝗮𝗳𝘁𝗲𝗿 𝗲𝗮𝗰𝗵.\n",
    "clr={\"red\",\"green\",\"blue\"}\n",
    "removed_item=clr.pop()\n",
    "print(clr)"
   ]
  },
  {
   "cell_type": "code",
   "execution_count": 22,
   "id": "a6f1bc66",
   "metadata": {},
   "outputs": [
    {
     "name": "stdout",
     "output_type": "stream",
     "text": [
      "union {1, 2, 3, 4, 5, 6}\n",
      "intersection {3, 4}\n",
      "difference {1, 2}\n",
      "symmetric_difference {1, 2, 5, 6}\n"
     ]
    }
   ],
   "source": [
    "# 𝗚𝗶𝘃𝗲𝗻: set1 = {1, 2, 3, 4}, set2 = {3, 4, 5, 6}, 𝗽𝗲𝗿𝗳𝗼𝗿𝗺 𝘁𝗵𝗲 𝗳𝗼𝗹𝗹𝗼𝘄𝗶𝗻𝗴: union(), intersection(), difference(), symmetric_difference(). 𝗣𝗿𝗶𝗻𝘁 𝗿𝗲𝘀𝘂𝗹𝘁𝘀.\n",
    "set1={1,2,3,4}\n",
    "set2={3,4,5,6}\n",
    "union_result=set1.union(set2)\n",
    "print(\"union\",union_result)\n",
    "intersection_result=set1.intersection(set2)\n",
    "print(\"intersection\",intersection_result)\n",
    "difference_result=set1.difference(set2)\n",
    "print(\"difference\",difference_result)\n",
    "sym_diff_result=set1.symmetric_difference(set2)\n",
    "print(\"symmetric_difference\",sym_diff_result)"
   ]
  },
  {
   "cell_type": "code",
   "execution_count": 25,
   "id": "148169f4",
   "metadata": {},
   "outputs": [
    {
     "name": "stdout",
     "output_type": "stream",
     "text": [
      "is b subset of a? True\n",
      "Is a superset of b? True\n",
      "Are a and b disjoint? False\n"
     ]
    }
   ],
   "source": [
    "# 𝗚𝗶𝘃𝗲𝗻 𝘀𝗲𝘁𝘀: A = {1, 2, 3}, B = {1, 2}. 𝗖𝗵𝗲𝗰𝗸: 𝗜𝘀 B 𝗮 𝘀𝘂𝗯𝘀𝗲𝘁 𝗼𝗳 A? 𝗜𝘀 A 𝗮 𝘀𝘂𝗽𝗲𝗿𝘀𝗲𝘁 𝗼𝗳 B? 𝗔𝗿𝗲 𝘁𝗵𝗲𝘆 𝗱𝗶𝘀𝗷𝗼𝗶𝗻𝘁?\n",
    "a={1,2,3}\n",
    "b={1,2}\n",
    "print(\"is b subset of a?\",b.issubset(a))\n",
    "print(\"Is a superset of b?\",a.issuperset(b))\n",
    "print(\"Are a and b disjoint?\",a.isdisjoint(b))\n"
   ]
  },
  {
   "cell_type": "code",
   "execution_count": 32,
   "id": "037f509a",
   "metadata": {},
   "outputs": [
    {
     "name": "stdout",
     "output_type": "stream",
     "text": [
      "Cannot add: 'list' object has no attribute 'add'\n"
     ]
    }
   ],
   "source": [
    "# 𝗖𝗿𝗲𝗮𝘁𝗲 𝗮 frozenset(['𝗮', '𝗲', '𝗶', '𝗼', '𝘂']). 𝗧𝗿𝘆 𝘁𝗼 add() 𝗼𝗿 remove() 𝗮𝗻 𝗲𝗹𝗲𝗺𝗲𝗻𝘁. 𝗖𝗮𝘁𝗰𝗵 𝘁𝗵𝗲 𝗲𝗿𝗿𝗼𝗿 𝗮𝗻𝗱 𝗲𝘅𝗽𝗹𝗮𝗶𝗻 𝗶𝗻 𝗰𝗼𝗺𝗺𝗲𝗻𝘁 𝘄𝗵𝘆 frozenset 𝗶𝘀 𝗶𝗺𝗺𝘂𝘁𝗮𝗯𝗹𝗲.\n",
    "frozen_set=['a','e','i','o','u']\n",
    "try:\n",
    "    frozen_set.add('y')\n",
    "except Exception as e:\n",
    "    print(\"Cannot add:\", e)\n",
    "try:\n",
    "    frozen_set.remove('a')\n",
    "except Exception as e:\n",
    "    print(\"Cannot remove:\", e)"
   ]
  },
  {
   "cell_type": "code",
   "execution_count": 33,
   "id": "74083f21",
   "metadata": {},
   "outputs": [
    {
     "name": "stdout",
     "output_type": "stream",
     "text": [
      "Union: frozenset({1, 2, 3, 4})\n",
      "Intersection: frozenset({2, 3})\n",
      "Difference (fs1 - fs2): frozenset({1})\n",
      "Symmetric Difference: frozenset({1, 4})\n"
     ]
    }
   ],
   "source": [
    "# 𝗧𝘄𝗼 𝗳𝗿𝗼𝘇𝗲𝗻𝘀𝗲𝘁𝘀: fs1 = frozenset([1, 2, 3]), fs2 = frozenset([2, 3, 4]). 𝗔𝗽𝗽𝗹𝘆: union(), intersection(), difference(), symmetric_difference(). 𝗣𝗿𝗶𝗻𝘁 𝗲𝗮𝗰𝗵.\n",
    "fs1 = frozenset([1, 2, 3])\n",
    "fs2 = frozenset([2, 3, 4])\n",
    "print(\"Union:\", fs1.union(fs2))\n",
    "print(\"Intersection:\", fs1.intersection(fs2))\n",
    "print(\"Difference (fs1 - fs2):\", fs1.difference(fs2))\n",
    "print(\"Symmetric Difference:\", fs1.symmetric_difference(fs2))\n"
   ]
  },
  {
   "cell_type": "code",
   "execution_count": 34,
   "id": "10cf585c",
   "metadata": {},
   "outputs": [
    {
     "name": "stdout",
     "output_type": "stream",
     "text": [
      "Lahore is in the set.\n",
      "Peshawar is NOT in the set.\n",
      "Multan is NOT in the set.\n"
     ]
    }
   ],
   "source": [
    "# 𝗖𝗿𝗲𝗮𝘁𝗲 𝗮 𝘀𝗲𝘁 𝗼𝗳 𝗰𝗶𝘁𝗶𝗲𝘀 {“𝗟𝗮𝗵𝗼𝗿𝗲”, “𝗞𝗮𝗿𝗮𝗰𝗵𝗶”, “𝗜𝘀𝗹𝗮𝗺𝗮𝗯𝗮𝗱”}. 𝗨𝘀𝗲 𝗮 𝗹𝗼𝗼𝗽 𝘁𝗼 𝗰𝗵𝗲𝗰𝗸 𝗺𝗲𝗺𝗯𝗲𝗿𝘀𝗵𝗶𝗽. 𝗖𝗿𝗲𝗮𝘁𝗲 𝗮 𝗻𝗲𝘄 𝘀𝗲𝘁 𝗮𝗻𝗱 𝗰𝗵𝗲𝗰𝗸 isdisjoint().\n",
    "cities = {\"Lahore\", \"Karachi\", \"Islamabad\"}\n",
    "check_list = [\"Lahore\", \"Peshawar\", \"Multan\"]\n",
    "for city in check_list:\n",
    "    if city in cities:\n",
    "        print(city, \"is in the set.\")\n",
    "    else:\n",
    "        print(city, \"is NOT in the set.\")\n",
    "other_cities = {\"Quetta\", \"Peshawar\"}\n"
   ]
  },
  {
   "cell_type": "code",
   "execution_count": 35,
   "id": "68a22e8b",
   "metadata": {},
   "outputs": [
    {
     "name": "stdout",
     "output_type": "stream",
     "text": [
      "Union (setA | setB): {1, 2, 3, 4, 5}\n",
      "Intersection (setA & setB): {3}\n",
      "Difference (setA - setB): {1, 2}\n",
      "Symmetric Difference (setA ^ setB): {1, 2, 4, 5}\n"
     ]
    }
   ],
   "source": [
    "# 𝗧𝗮𝗸𝗲: setA = {1, 2, 3}, setB = {3, 4, 5}. 𝗣𝗲𝗿𝗳𝗼𝗿𝗺: setA | setB, setA & setB, setA - setB, setA ^ setB. 𝗘𝘅𝗽𝗹𝗮𝗶𝗻 𝗲𝗮𝗰𝗵 𝗼𝗽𝗲𝗿𝗮𝘁𝗼𝗿 𝗶𝗻 𝗰𝗼𝗺𝗺𝗲𝗻𝘁𝘀.\n",
    "setA = {1, 2, 3}\n",
    "setB = {3, 4, 5}\n",
    "print(\"Union (setA | setB):\", setA | setB)\n",
    "print(\"Intersection (setA & setB):\", setA & setB) \n",
    "print(\"Difference (setA - setB):\", setA - setB)  \n",
    "print(\"Symmetric Difference (setA ^ setB):\", setA ^ setB) \n",
    "\n"
   ]
  },
  {
   "cell_type": "code",
   "execution_count": 2,
   "id": "6baa8678",
   "metadata": {},
   "outputs": [
    {
     "name": "stdout",
     "output_type": "stream",
     "text": [
      "set(duplicates removed): {'cherry', 'banana', 'apple'}\n",
      "Error: 'frozenset' object has no attribute 'add'\n",
      "Explanation: A frozenset is immutable, which means you cannot add, remove, or change its elements after creation.\n"
     ]
    }
   ],
   "source": [
    "# 𝗔𝘀𝗸 𝘂𝘀𝗲𝗿 𝗳𝗼𝗿 𝗮 𝗹𝗶𝘀𝘁 𝗼𝗳 𝗶𝘁𝗲𝗺𝘀 𝗮𝘀 𝗶𝗻𝗽𝘂𝘁. 𝗖𝗼𝗻𝘃𝗲𝗿𝘁 𝘁𝗼 𝘀𝗲𝘁 (𝘁𝗼 𝗿𝗲𝗺𝗼𝘃𝗲 𝗱𝘂𝗽𝗹𝗶𝗰𝗮𝘁𝗲𝘀), 𝘁𝗵𝗲𝗻 𝗰𝗼𝗻𝘃𝗲𝗿𝘁 𝘁𝗼 frozenset. 𝗧𝗿𝘆 𝘁𝗼 𝗺𝗼𝗱𝗶𝗳𝘆 𝗶𝘁, 𝗰𝗮𝘁𝗰𝗵 𝗲𝗿𝗿𝗼𝗿, 𝗲𝘅𝗽𝗹𝗮𝗶𝗻 𝘄𝗵𝘆 frozenset 𝗶𝘀 𝗶𝗻𝗰𝗵𝗮𝗻𝗴𝗲𝗮𝗯𝗹𝗲.\n",
    "items = \"apple banana cherry\".split()\n",
    "items=set(items)\n",
    "frozen_set=frozenset(items)\n",
    "print(\"set(duplicates removed):\",items) \n",
    "try:\n",
    "    frozen_set.add(\"orange\")\n",
    "except AttributeError as e:\n",
    "    print(\"Error:\", e)\n",
    "    print(\"Explanation: A frozenset is immutable, which means you cannot add, remove, or change its elements after creation.\")\n",
    "\n"
   ]
  }
 ],
 "metadata": {
  "kernelspec": {
   "display_name": ".venv",
   "language": "python",
   "name": "python3"
  },
  "language_info": {
   "codemirror_mode": {
    "name": "ipython",
    "version": 3
   },
   "file_extension": ".py",
   "mimetype": "text/x-python",
   "name": "python",
   "nbconvert_exporter": "python",
   "pygments_lexer": "ipython3",
   "version": "3.13.5"
  }
 },
 "nbformat": 4,
 "nbformat_minor": 5
}
