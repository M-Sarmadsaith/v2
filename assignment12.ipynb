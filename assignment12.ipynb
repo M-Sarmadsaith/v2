{
 "cells": [
  {
   "cell_type": "code",
   "execution_count": 1,
   "id": "17c98846",
   "metadata": {},
   "outputs": [
    {
     "name": "stdout",
     "output_type": "stream",
     "text": [
      "Factorial of 5 is: 120\n",
      "Double of 5 is: 10\n"
     ]
    }
   ],
   "source": [
    "#𝗜𝗺𝗽𝗼𝗿𝘁 math 𝗺𝗼𝗱𝘂𝗹𝗲 𝗮𝗻𝗱 𝘂𝘀𝗲 math.factorial() 𝘁𝗼 𝗳𝗶𝗻𝗱 𝗳𝗮𝗰𝘁𝗼𝗿𝗶𝗮𝗹. 𝗖𝗿𝗲𝗮𝘁𝗲 𝗮 𝗳𝘂𝗻𝗰𝘁𝗶𝗼𝗻 double(n) 𝘁𝗼 𝗿𝗲𝘁𝘂𝗿𝗻 𝘁𝘄𝗶𝗰𝗲 𝘁𝗵𝗲 𝗶𝗻𝗽𝘂𝘁. 𝗖𝗮𝗹𝗹 𝗯𝗼𝘁𝗵 𝗳𝘂𝗻𝗰𝘁𝗶𝗼𝗻𝘀.\n",
    "import math\n",
    "def double(n):\n",
    "    return 2 * n\n",
    "num = int(5)\n",
    "fact = math.factorial(num)\n",
    "doubled_value = double(num)\n",
    "print(f\"Factorial of {num} is: {fact}\")\n",
    "print(f\"Double of {num} is: {doubled_value}\")\n"
   ]
  },
  {
   "cell_type": "code",
   "execution_count": 2,
   "id": "91906b1c",
   "metadata": {},
   "outputs": [
    {
     "name": "stdout",
     "output_type": "stream",
     "text": [
      "Hello, Zain! Welcome!\n",
      "4\n"
     ]
    }
   ],
   "source": [
    "# 𝗜𝗺𝗽𝗼𝗿𝘁 random 𝗮𝗻𝗱 𝘂𝘀𝗲 random.choice() 𝗼𝗻 𝗮 𝗹𝗶𝘀𝘁. 𝗗𝗲𝗳𝗶𝗻𝗲 greet(name) 𝘁𝗼 𝗽𝗿𝗶𝗻𝘁 𝗮 𝗴𝗿𝗲𝗲𝘁𝗶𝗻𝗴. 𝗨𝘀𝗲 len() 𝘁𝗼 𝗽𝗿𝗶𝗻𝘁 𝘁𝗵𝗲 𝗹𝗶𝘀𝘁 𝗹𝗲𝗻𝗴𝘁𝗵.\n",
    "import random\n",
    "names=[\"Sarmad\",\"Zain\",\"Maryam\",\"Ali\"]\n",
    "random_name=random.choice(names)\n",
    "def greet(name):\n",
    "    print(f\"Hello, {name}! Welcome!\")\n",
    "    print( len(names))\n",
    "greet(random_name)"
   ]
  },
  {
   "cell_type": "code",
   "execution_count": 4,
   "id": "eb80017e",
   "metadata": {},
   "outputs": [
    {
     "name": "stdout",
     "output_type": "stream",
     "text": [
      "Numbers: [10, 25, 30, 45, 60]\n",
      "Sum of numbers: 170\n",
      "Mean of numbers: 34\n",
      "10 is even? True\n",
      "25 is even? False\n",
      "30 is even? True\n",
      "45 is even? False\n",
      "60 is even? True\n"
     ]
    }
   ],
   "source": [
    "# 𝗨𝘀𝗲 sum() 𝘁𝗼 𝗮𝗱𝗱 𝗹𝗶𝘀𝘁 𝗲𝗹𝗲𝗺𝗲𝗻𝘁𝘀. 𝗜𝗺𝗽𝗼𝗿𝘁 statistics 𝗮𝗻𝗱 𝘂𝘀𝗲 mean(). 𝗖𝗿𝗲𝗮𝘁𝗲 is_even(num) 𝘁𝗼 𝗰𝗵𝗲𝗰𝗸 𝗲𝘃𝗲𝗻 𝗻𝘂𝗺𝗯𝗲𝗿𝘀.\n",
    "import statistics\n",
    "numbers = [10, 25, 30, 45, 60]\n",
    "total = sum(numbers)\n",
    "average = statistics.mean(numbers)\n",
    "def is_even(num):\n",
    "    return num % 2 == 0\n",
    "print(\"Numbers:\", numbers)\n",
    "print(\"Sum of numbers:\", total)\n",
    "print(\"Mean of numbers:\", average)\n",
    "for num in numbers:\n",
    "    print(f\"{num} is even? {is_even(num)}\")\n"
   ]
  },
  {
   "cell_type": "code",
   "execution_count": 6,
   "id": "ec57d2e7",
   "metadata": {},
   "outputs": [
    {
     "name": "stdout",
     "output_type": "stream",
     "text": [
      "current date and time: 2025-07-11 21:13:33.545965\n",
      "hello!,have a great day\n",
      "43\n"
     ]
    }
   ],
   "source": [
    "# 𝗜𝗺𝗽𝗼𝗿𝘁 datetime 𝗮𝗻𝗱 𝗽𝗿𝗶𝗻𝘁 𝗰𝘂𝗿𝗿𝗲𝗻𝘁 𝗱𝗮𝘁𝗲 & 𝘁𝗶𝗺𝗲 𝘂𝘀𝗶𝗻𝗴 datetime.now(). 𝗖𝗿𝗲𝗮𝘁𝗲 say_hello() 𝗳𝘂𝗻𝗰𝘁𝗶𝗼𝗻. 𝗖𝗵𝗲𝗰𝗸 𝗮 𝘃𝗮𝗿𝗶𝗮𝗯𝗹𝗲’𝘀 𝘁𝘆𝗽𝗲 𝘄𝗶𝘁𝗵 type().\n",
    "from datetime import datetime\n",
    "current_time=datetime.now()\n",
    "print(\"current date and time:\",current_time)\n",
    "def say_hello():\n",
    "    print(\"hello!,have a great day\")\n",
    "say_hello()\n",
    "x=43\n",
    "print(x)\n"
   ]
  },
  {
   "cell_type": "code",
   "execution_count": 13,
   "id": "386d83bd",
   "metadata": {},
   "outputs": [
    {
     "name": "stdout",
     "output_type": "stream",
     "text": [
      "area of circle 78.53981633974483\n",
      "type of area <class 'float'>\n"
     ]
    }
   ],
   "source": [
    "# 𝗖𝗿𝗲𝗮𝘁𝗲 area_of_circle(radius) 𝘂𝘀𝗶𝗻𝗴 𝝅r². 𝗜𝗺𝗽𝗼𝗿𝘁 math 𝗮𝗻𝗱 𝘂𝘀𝗲 math.pi. 𝗣𝗿𝗶𝗻𝘁 𝘁𝗵𝗲 𝗮𝗿𝗲𝗮 𝗮𝗻𝗱 𝗰𝗵𝗲𝗰𝗸 𝘁𝘆𝗽𝗲.\n",
    "import math\n",
    "def area_of_circle(radius):\n",
    "    return math.pi*radius**2\n",
    "radius=5\n",
    "area=area_of_circle(radius)\n",
    "print(\"area of circle\",area)\n",
    "print(\"type of area\",type(area))\n"
   ]
  },
  {
   "cell_type": "code",
   "execution_count": 28,
   "id": "d48434e0",
   "metadata": {},
   "outputs": [
    {
     "name": "stdout",
     "output_type": "stream",
     "text": [
      "random_number: 38\n"
     ]
    },
    {
     "data": {
      "text/plain": [
       "<function __main__.check_number(num)>"
      ]
     },
     "execution_count": 28,
     "metadata": {},
     "output_type": "execute_result"
    }
   ],
   "source": [
    "#𝗜𝗺𝗽𝗼𝗿𝘁 random. 𝗚𝗲𝗻𝗲𝗿𝗮𝘁𝗲 𝗮 𝗿𝗮𝗻𝗱𝗼𝗺 𝗻𝘂𝗺𝗯𝗲𝗿 𝘂𝘀𝗶𝗻𝗴 randint(10, 100). 𝗗𝗲𝗳𝗶𝗻𝗲 check_number(num) 𝘁𝗼 𝗰𝗵𝗲𝗰𝗸 𝗶𝗳 𝗴𝗿𝗲𝗮𝘁𝗲𝗿 𝘁𝗵𝗮𝗻 𝟱𝟬.\n",
    "import random\n",
    "num=random.randint(10,100)\n",
    "def check_number(num):\n",
    "    if num > 50:\n",
    "        print(f\"{num} is greater than 50.\")\n",
    "    else:\n",
    "        print(f\"{num} is not greater than 50.\")\n",
    "print(\"random_number:\",num)\n",
    "check_number\n"
   ]
  },
  {
   "cell_type": "code",
   "execution_count": 31,
   "id": "005581d9",
   "metadata": {},
   "outputs": [
    {
     "name": "stdout",
     "output_type": "stream",
     "text": [
      "maximum value in list 25\n",
      "2 raised to the power 5 is: 32.0\n",
      "Name: Ali\n",
      "Age: 30\n"
     ]
    }
   ],
   "source": [
    "# 𝗨𝘀𝗲 max() 𝗼𝗻 𝗮 𝗹𝗶𝘀𝘁. 𝗜𝗺𝗽𝗼𝗿𝘁 math 𝗮𝗻𝗱 𝘂𝘀𝗲 math.pow(x, y). 𝗖𝗿𝗲𝗮𝘁𝗲 display_info() 𝘁𝗼 𝗽𝗿𝗶𝗻𝘁 𝗻𝗮𝗺𝗲 & 𝗮𝗴𝗲.\n",
    "import math\n",
    "numbers = [3, 8, 12, 25, 7]\n",
    "largest = max(numbers)\n",
    "print(\"maximum value in list\",largest)\n",
    "x = 2\n",
    "y = 5\n",
    "power = math.pow(x, y)\n",
    "print(f\"{x} raised to the power {y} is:\",power)\n",
    "def display_info(name, age):\n",
    "    print(f\"Name: {name}\")\n",
    "    print(f\"Age: {age}\")\n",
    "display_info(\"Ali\", 30)\n"
   ]
  },
  {
   "cell_type": "code",
   "execution_count": 32,
   "id": "e1ec3307",
   "metadata": {},
   "outputs": [
    {
     "name": "stdout",
     "output_type": "stream",
     "text": [
      "May 2025 Calendar:\n",
      "      May 2025\n",
      "Mo Tu We Th Fr Sa Su\n",
      "          1  2  3  4\n",
      " 5  6  7  8  9 10 11\n",
      "12 13 14 15 16 17 18\n",
      "19 20 21 22 23 24 25\n",
      "26 27 28 29 30 31\n",
      "\n",
      "Number of characters in calendar: 138\n",
      "Calendar displayed successfully!\n"
     ]
    }
   ],
   "source": [
    "# 𝗜𝗺𝗽𝗼𝗿𝘁 calendar. 𝗣𝗿𝗶𝗻𝘁 𝗠𝗮𝘆 𝟮𝟬𝟮𝟱 𝘂𝘀𝗶𝗻𝗴 calendar.month(2025, 5). 𝗖𝗼𝘂𝗻𝘁 𝗰𝗵𝗮𝗿𝗮𝗰𝘁𝗲𝗿𝘀 𝘄𝗶𝘁𝗵 len(). 𝗗𝗲𝗳𝗶𝗻𝗲 show_message().\n",
    "import calendar\n",
    "may_calendar = calendar.month(2025, 5)\n",
    "print(\"May 2025 Calendar:\")\n",
    "print(may_calendar)\n",
    "print(\"Number of characters in calendar:\", len(may_calendar))\n",
    "def show_message():\n",
    "    print(\"Calendar displayed successfully!\")\n",
    "show_message()"
   ]
  },
  {
   "cell_type": "code",
   "execution_count": 33,
   "id": "f23332a2",
   "metadata": {},
   "outputs": [
    {
     "name": "stdout",
     "output_type": "stream",
     "text": [
      "Current working directory: c:\\Users\\M.sarmad  khalid\\Desktop\\my pics\n",
      "String version of number: 123\n",
      "Type after conversion: <class 'str'>\n",
      "Product of 6 and 7 is: 42\n"
     ]
    }
   ],
   "source": [
    "# 𝗜𝗺𝗽𝗼𝗿𝘁 os, 𝗽𝗿𝗶𝗻𝘁 𝗰𝘂𝗿𝗿𝗲𝗻𝘁 𝗱𝗶𝗿 𝘂𝘀𝗶𝗻𝗴 os.getcwd(). 𝗖𝗼𝗻𝘃𝗲𝗿𝘁 𝗶𝗻𝘁 𝘁𝗼 𝘀𝘁𝗿𝗶𝗻𝗴 𝘄𝗶𝘁𝗵 str(). 𝗖𝗿𝗲𝗮𝘁𝗲 multiply(x, y) 𝘁𝗼 𝗿𝗲𝘁𝘂𝗿𝗻 𝗽𝗿𝗼𝗱𝘂𝗰𝘁.\n",
    "import os\n",
    "current_dir = os.getcwd()\n",
    "print(\"Current working directory:\", current_dir)\n",
    "number = 123\n",
    "number_str = str(number)\n",
    "print(\"String version of number:\", number_str)\n",
    "print(\"Type after conversion:\", type(number_str))\n",
    "def multiply(x, y):\n",
    "    return x * y\n",
    "result = multiply(6, 7)\n",
    "print(\"Product of 6 and 7 is:\", result)\n"
   ]
  },
  {
   "cell_type": "code",
   "execution_count": 35,
   "id": "88f387bd",
   "metadata": {},
   "outputs": [
    {
     "name": "stdout",
     "output_type": "stream",
     "text": [
      "Square root is: 2.23606797749979\n"
     ]
    }
   ],
   "source": [
    "# 𝗗𝗲𝗳𝗶𝗻𝗲 calculate_square_root(num) 𝘂𝘀𝗶𝗻𝗴 math.sqrt(). 𝗧𝗮𝗸𝗲 𝘂𝘀𝗲𝗿 𝗶𝗻𝗽𝘂𝘁, 𝗰𝗼𝗻𝘃𝗲𝗿𝘁 𝘁𝗼 int, 𝗰𝗵𝗲𝗰𝗸 𝘁𝘆𝗽𝗲, 𝗮𝗻𝗱 𝗽𝗿𝗶𝗻𝘁 𝘀𝗾𝘂𝗮𝗿𝗲 𝗿𝗼𝗼𝘁.\n",
    "import math\n",
    "num = int(5)\n",
    "print(\"Square root is:\", math.sqrt(num))"
   ]
  }
 ],
 "metadata": {
  "kernelspec": {
   "display_name": ".venv",
   "language": "python",
   "name": "python3"
  },
  "language_info": {
   "codemirror_mode": {
    "name": "ipython",
    "version": 3
   },
   "file_extension": ".py",
   "mimetype": "text/x-python",
   "name": "python",
   "nbconvert_exporter": "python",
   "pygments_lexer": "ipython3",
   "version": "3.13.5"
  }
 },
 "nbformat": 4,
 "nbformat_minor": 5
}
