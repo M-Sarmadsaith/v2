{
 "cells": [
  {
   "cell_type": "code",
   "execution_count": 1,
   "id": "6fef44fa",
   "metadata": {},
   "outputs": [
    {
     "name": "stdout",
     "output_type": "stream",
     "text": [
      "7.3\n"
     ]
    }
   ],
   "source": [
    "#𝗖𝗿𝗲𝗮𝘁𝗲 𝗮 𝗹𝗶𝘀𝘁 𝗼𝗳 𝟯 𝗳𝗹𝗼𝗮𝘁 𝗻𝘂𝗺𝗯𝗲𝗿𝘀 𝗮𝘀 𝘀𝘁𝗿𝗶𝗻𝗴𝘀 (𝗲.𝗴. [\"𝟭.𝟱\", \"𝟮.𝟴\", \"𝟯.𝟬\"]). 𝗖𝗼𝗻𝘃𝗲𝗿𝘁 𝗲𝗮𝗰𝗵 𝘁𝗼 float 𝗮𝗻𝗱 𝗽𝗿𝗶𝗻𝘁 𝘁𝗵𝗲 𝘀𝘂𝗺.\n",
    "float_str=[\"1.5\",\"2.8\",\"3.0\"]\n",
    "float_values=[float(num)for num in  float_str]\n",
    "total=sum(float_values)\n",
    "print(total)\n"
   ]
  },
  {
   "cell_type": "code",
   "execution_count": 3,
   "id": "a81d205e",
   "metadata": {},
   "outputs": [
    {
     "name": "stdout",
     "output_type": "stream",
     "text": [
      "this number is positive\n"
     ]
    }
   ],
   "source": [
    "# 𝗧𝗮𝗸𝗲 𝘂𝘀𝗲𝗿 𝗶𝗻𝗽𝘂𝘁 𝗳𝗼𝗿 𝗮 𝗻𝘂𝗺𝗯𝗲𝗿. 𝗖𝗵𝗲𝗰𝗸 𝘄𝗵𝗲𝘁𝗵𝗲𝗿 𝗶𝘁 𝗶𝘀 𝗽𝗼𝘀𝗶𝘁𝗶𝘃𝗲, 𝗻𝗲𝗴𝗮𝘁𝗶𝘃𝗲, 𝗼𝗿 𝘇𝗲𝗿𝗼 𝘂𝘀𝗶𝗻𝗴 if-elif-else.\n",
    "num=2\n",
    "if num > 0:\n",
    "    print(\"this number is positive\")\n",
    "elif num < 0:\n",
    "    print(\"this number is negative\")\n",
    "else:\n",
    "    print(\"this number is zero\")"
   ]
  },
  {
   "cell_type": "code",
   "execution_count": 4,
   "id": "c51ef39b",
   "metadata": {},
   "outputs": [
    {
     "name": "stdout",
     "output_type": "stream",
     "text": [
      "result 119\n",
      "type <class 'int'>\n"
     ]
    }
   ],
   "source": [
    "# 𝗧𝗮𝗸𝗲 𝘁𝘄𝗼 𝘀𝘁𝗿𝗶𝗻𝗴 𝗻𝘂𝗺𝗯𝗲𝗿𝘀 𝗮𝘀 𝗶𝗻𝗽𝘂𝘁 𝗳𝗿𝗼𝗺 𝘁𝗵𝗲 𝘂𝘀𝗲𝗿. 𝗖𝗼𝗻𝘃𝗲𝗿𝘁 𝘁𝗼 int, 𝗮𝗱𝗱 𝘁𝗵𝗲𝗺, 𝗮𝗻𝗱 𝗽𝗿𝗶𝗻𝘁 𝘁𝗵𝗲 𝗿𝗲𝘀𝘂𝗹𝘁 𝘄𝗶𝘁𝗵 𝘁𝘆𝗽𝗲.\n",
    "num1=52\n",
    "num2=67\n",
    "int_num1=int(num1)\n",
    "int_num2=int(num2)\n",
    "result = int_num1 + int_num2\n",
    "print(\"result\",result)\n",
    "print(\"type\",type(result))\n"
   ]
  },
  {
   "cell_type": "code",
   "execution_count": 8,
   "id": "a5d43715",
   "metadata": {},
   "outputs": [
    {
     "name": "stdout",
     "output_type": "stream",
     "text": [
      "[5, 8, 10.5, True]\n"
     ]
    }
   ],
   "source": [
    "#:𝗗𝗲𝗳𝗶𝗻𝗲 𝗮 𝗹𝗶𝘀𝘁 𝗼𝗳 𝗺𝗶𝘅𝗲𝗱 𝘁𝘆𝗽𝗲𝘀 (𝗲.𝗴. [\"𝟱\", 𝟴, 𝟭𝟬.𝟱, 𝗧𝗿𝘂𝗲]). 𝗨𝘀𝗲 𝗮 𝗹𝗼𝗼𝗽 𝘁𝗼 𝗰𝗼𝗻𝘃𝗲𝗿𝘁 𝘀𝘁𝗿𝗶𝗻𝗴𝘀 𝗶𝗻𝘁𝗼 𝗶𝗻𝘁𝗲𝗴𝗲𝗿𝘀.\n",
    "mix_list=[\"5\",8,10.5,True]\n",
    "for i in range(len(mix_list)):\n",
    "    if type(mix_list[i])==str:\n",
    "        mix_list[i]=int(mix_list[i])\n",
    "        print(mix_list)"
   ]
  },
  {
   "cell_type": "code",
   "execution_count": 9,
   "id": "d9d00f9b",
   "metadata": {},
   "outputs": [
    {
     "name": "stdout",
     "output_type": "stream",
     "text": [
      "total marks 252\n",
      "percentage 756.0\n"
     ]
    }
   ],
   "source": [
    "#𝗧𝗮𝗸𝗲 𝘂𝘀𝗲𝗿 𝗶𝗻𝗽𝘂𝘁 𝗳𝗼𝗿 𝟯 𝗺𝗮𝗿𝗸𝘀 (𝗮𝘀 𝘀𝘁𝗿𝗶𝗻𝗴𝘀), 𝗰𝗼𝗻𝘃𝗲𝗿𝘁 𝘁𝗼 int, 𝗮𝗻𝗱 𝗽𝗿𝗶𝗻𝘁 𝘁𝗵𝗲 𝘁𝗼𝘁𝗮𝗹 𝗮𝗻𝗱 𝗽𝗲𝗿𝗰𝗲𝗻𝘁𝗮𝗴𝗲.\n",
    "mark1=76\n",
    "mark2=87\n",
    "mark3=89\n",
    "mark1=int(mark1)\n",
    "mark2=int(mark2)\n",
    "mark3=int(mark3)\n",
    "total = mark1 + mark2 + mark3\n",
    "percentage=(total/100)*300\n",
    "print(\"total marks\",total)\n",
    "print(\"percentage\",percentage)"
   ]
  },
  {
   "cell_type": "code",
   "execution_count": 10,
   "id": "c93d74af",
   "metadata": {},
   "outputs": [
    {
     "name": "stdout",
     "output_type": "stream",
     "text": [
      "Result is greater than 5: 8.4\n"
     ]
    }
   ],
   "source": [
    "# 𝗖𝗿𝗲𝗮𝘁𝗲 𝗮 𝘀𝘁𝗿𝗶𝗻𝗴 𝘃𝗮𝗿𝗶𝗮𝗯𝗹𝗲 𝗼𝗳 𝗮 𝗳𝗹𝗼𝗮𝘁 𝘃𝗮𝗹𝘂𝗲 (𝗲.𝗴. \"𝟰.𝟮\"). 𝗖𝗼𝗻𝘃𝗲𝗿𝘁 𝘁𝗼 float, 𝗺𝘂𝗹𝘁𝗶𝗽𝗹𝘆 𝗯𝘆 𝟮, 𝗮𝗻𝗱 𝗰𝗵𝗲𝗰𝗸 𝗶𝗳 𝗿𝗲𝘀𝘂𝗹𝘁 > 𝟱.\n",
    "num_str=\"4.2\"\n",
    "num=float(num_str)\n",
    "result=num*2\n",
    "if result > 5:\n",
    "    print(\"Result is greater than 5:\", result)\n",
    "else:\n",
    "    print(\"Result is not greater than 5:\", result)\n"
   ]
  },
  {
   "cell_type": "code",
   "execution_count": 24,
   "id": "750d6990",
   "metadata": {},
   "outputs": [
    {
     "name": "stdout",
     "output_type": "stream",
     "text": [
      "Mark 67: Pass\n",
      "Mark 52: Pass\n",
      "Mark 38: Fail\n"
     ]
    }
   ],
   "source": [
    "#𝗖𝗿𝗲𝗮𝘁𝗲 𝗮 𝗹𝗶𝘀𝘁 𝗼𝗳 𝟰 𝗺𝗮𝗿𝗸𝘀 (𝗮𝘀 𝘀𝘁𝗿𝗶𝗻𝗴𝘀). 𝗨𝘀𝗲 for 𝗹𝗼𝗼𝗽 𝘁𝗼 𝗰𝗼𝗻𝘃𝗲𝗿𝘁 𝗮𝗻𝗱 𝗰𝗵𝗲𝗰𝗸 𝗳𝗼𝗿 𝗽𝗮𝘀𝘀 𝗼𝗿 𝗳𝗮𝗶𝗹 (𝗺𝗮𝗿𝗸 >= 𝟱𝟬).\n",
    "marks = [\"45\", \"67\", \"52\", \"38\"]\n",
    "for mark in marks:\n",
    " mark_int=int(mark)\n",
    " if mark_int >= 50:\n",
    "    print(f\"Mark {mark_int}: Pass\")\n",
    "else:\n",
    "    print(f\"Mark {mark_int}: Fail\")"
   ]
  },
  {
   "cell_type": "code",
   "execution_count": 35,
   "id": "58ca4d92",
   "metadata": {},
   "outputs": [
    {
     "name": "stdout",
     "output_type": "stream",
     "text": [
      "valid email\n"
     ]
    }
   ],
   "source": [
    "# 𝗧𝗮𝗸𝗲 𝘂𝘀𝗲𝗿 𝗶𝗻𝗽𝘂𝘁 𝗼𝗳 𝗲𝗺𝗮𝗶𝗹 𝗮𝗻𝗱 𝗰𝗵𝗲𝗰𝗸 𝗶𝗳 𝗶𝘁 𝗰𝗼𝗻𝘁𝗮𝗶𝗻𝘀 \"@\" 𝘂𝘀𝗶𝗻𝗴 in. 𝗣𝗿𝗶𝗻𝘁 𝘃𝗮𝗹𝗶𝗱 𝗼𝗿 𝗶𝗻𝘃𝗮𝗹𝗶𝗱.\n",
    "email=\"hassan@gmail.com\"\n",
    "if \"@\" in email:\n",
    "    print(\"valid email\")\n",
    "else:\n",
    "    print(\"Invalid email\")"
   ]
  },
  {
   "cell_type": "code",
   "execution_count": 36,
   "id": "d808e6cb",
   "metadata": {},
   "outputs": [
    {
     "name": "stdout",
     "output_type": "stream",
     "text": [
      "\"the\" appears 3 times.\n"
     ]
    }
   ],
   "source": [
    "# 𝗧𝗮𝗸𝗲 𝘂𝘀𝗲𝗿 𝗶𝗻𝗽𝘂𝘁 𝗼𝗳 𝗮 𝘀𝗲𝗻𝘁𝗲𝗻𝗰𝗲. 𝗖𝗼𝘂𝗻𝘁 𝗵𝗼𝘄 𝗺𝗮𝗻𝘆 𝘁𝗶𝗺𝗲𝘀 𝘁𝗵𝗲 𝘄𝗼𝗿𝗱 \"the\" 𝗮𝗽𝗽𝗲𝗮𝗿𝘀.\n",
    "sentence=\"The sun is the brightest in the sky\"\n",
    "words = sentence.lower().split()\n",
    "count = words.count(\"the\")\n",
    "print('\"the\" appears', count, 'times.')"
   ]
  },
  {
   "cell_type": "code",
   "execution_count": 37,
   "id": "e57e5798",
   "metadata": {},
   "outputs": [
    {
     "name": "stdout",
     "output_type": "stream",
     "text": [
      "Even numbers: [2, 4, 6, 8, 10]\n"
     ]
    }
   ],
   "source": [
    "# 𝗠𝗮𝗸𝗲 𝗮 𝗹𝗶𝘀𝘁 𝗼𝗳 𝗻𝘂𝗺𝗯𝗲𝗿𝘀 𝗳𝗿𝗼𝗺 𝟭 𝘁𝗼 𝟭𝟬 (𝗮𝘀 𝘀𝘁𝗿𝗶𝗻𝗴𝘀). 𝗖𝗼𝗻𝘃𝗲𝗿𝘁 𝘁𝗼 int, 𝗳𝗶𝗹𝘁𝗲𝗿 𝗼𝗻𝗹𝘆 𝗲𝘃𝗲𝗻 𝗻𝘂𝗺𝗯𝗲𝗿𝘀, 𝗮𝗻𝗱 𝗽𝗿𝗶𝗻𝘁 𝘁𝗵𝗲𝗺.\n",
    "num_strings = [\"1\", \"2\", \"3\", \"4\", \"5\", \"6\", \"7\", \"8\", \"9\", \"10\"]\n",
    "even_num=[2,4,6,8,10]\n",
    "even_numbers = []\n",
    "for num_str in num_strings:\n",
    "    num = int(num_str)\n",
    "    if num % 2 == 0:\n",
    "        even_numbers.append(num)\n",
    "print(\"Even numbers:\", even_numbers)\n"
   ]
  }
 ],
 "metadata": {
  "kernelspec": {
   "display_name": ".venv",
   "language": "python",
   "name": "python3"
  },
  "language_info": {
   "codemirror_mode": {
    "name": "ipython",
    "version": 3
   },
   "file_extension": ".py",
   "mimetype": "text/x-python",
   "name": "python",
   "nbconvert_exporter": "python",
   "pygments_lexer": "ipython3",
   "version": "3.13.5"
  }
 },
 "nbformat": 4,
 "nbformat_minor": 5
}
