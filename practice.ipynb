{
 "cells": [
  {
   "cell_type": "code",
   "execution_count": 16,
   "id": "6446d6b4",
   "metadata": {},
   "outputs": [
    {
     "name": "stdout",
     "output_type": "stream",
     "text": [
      "1984, Author: George Orwell, Pages: 328\n"
     ]
    }
   ],
   "source": [
    "#Create a Book class with attributes: title, author, and pages. Instantiate and print book details.\n",
    "class Book:\n",
    "    def __init__(self, title, author, pages):\n",
    "        self.title=title\n",
    "        self.author=author\n",
    "        self.pages=pages\n",
    "    def __str__(self):\n",
    "     return (f\"{self.title}, Author: {self.author}, Pages: {self.pages}\")\n",
    "my_book = Book(\"1984\", \"George Orwell\", 328)\n",
    "print(my_book)"
   ]
  },
  {
   "cell_type": "code",
   "execution_count": 25,
   "id": "3dfa021b",
   "metadata": {},
   "outputs": [
    {
     "name": "stdout",
     "output_type": "stream",
     "text": [
      "1984, Author: George Orwell, Pages: 328\n",
      "1984' is a book written by George Orwell with 328 pages.\n"
     ]
    }
   ],
   "source": [
    "#Add a method summary() to return a short description of the book.\n",
    "class Book:\n",
    "    def __init__(self, title, author, pages):\n",
    "        self.title = title\n",
    "        self.author = author\n",
    "        self.pages = pages\n",
    "    def __str__(self):\n",
    "        return f\"{self.title}, Author: {self.author}, Pages: {self.pages}\"\n",
    "    def summary(self):\n",
    "        return(f\"{self.title}' is a book written by {self.author} with {self.pages} pages.\")\n",
    "my_book = Book(\"1984\", \"George Orwell\", 328)\n",
    "print(my_book)\n",
    "print(my_book.summary())   "
   ]
  },
  {
   "cell_type": "code",
   "execution_count": 26,
   "id": "939de75e",
   "metadata": {},
   "outputs": [
    {
     "name": "stdout",
     "output_type": "stream",
     "text": [
      "False\n",
      "True\n"
     ]
    }
   ],
   "source": [
    "#Create a method is_lengthy() that returns True if pages > 300, else False.\n",
    "class Book:\n",
    "    def __init__(self, title, author, pages):\n",
    "        self.title = title\n",
    "        self.author = author\n",
    "        self.pages = pages\n",
    "    def __str__(self):\n",
    "        return f\"{self.title}, Author: {self.author}, Pages: {self.pages}\"\n",
    "    def summary(self):\n",
    "        return f\"{self.title} by {self.author}, {self.pages} pages\"\n",
    "    def is_lengthy(self):\n",
    "        return self.pages > 300\n",
    "book1 = Book(\"To Kill a Mockingbird\", \"Harper Lee\", 281)\n",
    "book2 = Book(\"War and Peace\", \"Leo Tolstoy\", 1225)\n",
    "print(book1.is_lengthy()) \n",
    "print(book2.is_lengthy()) "
   ]
  },
  {
   "cell_type": "code",
   "execution_count": 28,
   "id": "b5abbfe7",
   "metadata": {},
   "outputs": [
    {
     "name": "stdout",
     "output_type": "stream",
     "text": [
      "Hi, I'm Harper Lee. I am the author of 'To Kill a Mockingbird', a novel about racial injustice in the American South.\n"
     ]
    }
   ],
   "source": [
    "#Create an Author class with name and bio attributes, and a method introduce() that prints their intro.\n",
    "class Author:\n",
    "    def __init__(self, name, bio):\n",
    "        self.name = name\n",
    "        self.bio = bio\n",
    "    def introduce(self):\n",
    "        print(f\"Hi, I'm {self.name}. {self.bio}\")\n",
    "author1 = Author(\"Harper Lee\", \"I am the author of 'To Kill a Mockingbird', a novel about racial injustice in the American South.\")\n",
    "author1.introduce()\n"
   ]
  },
  {
   "cell_type": "code",
   "execution_count": 29,
   "id": "c6805fb7",
   "metadata": {},
   "outputs": [
    {
     "name": "stdout",
     "output_type": "stream",
     "text": [
      "English\n",
      "English\n"
     ]
    }
   ],
   "source": [
    "#Add a class variable language = \"English\" in the Book class. Access it from different instances.\n",
    "class Book:\n",
    "    language = \"English\"\n",
    "    def __init__(self, title, author, pages):\n",
    "        self.title = title\n",
    "        self.author = author\n",
    "        self.pages = pages\n",
    "    def summary(self):\n",
    "        return f\"{self.title} by {self.author}, {self.pages} pages\"\n",
    "    def is_lengthy(self):\n",
    "        return self.pages > 300\n",
    "book1 = Book(\"To Kill a Mockingbird\", \"Harper Lee\", 281)\n",
    "book2 = Book(\"1984\", \"George Orwell\", 328)\n",
    "print(book1.language)  \n",
    "print(book2.language)  "
   ]
  },
  {
   "cell_type": "code",
   "execution_count": 30,
   "id": "ad5d490a",
   "metadata": {},
   "outputs": [
    {
     "name": "stdout",
     "output_type": "stream",
     "text": [
      "False\n"
     ]
    }
   ],
   "source": [
    "#Create two Book instances and check if they are equal using == and explain the output.\n",
    "class Book:\n",
    "    def __init__(self, title, author, pages):\n",
    "        self.title = title\n",
    "        self.author = author\n",
    "        self.pages = pages\n",
    "book1 = Book(\"To Kill a Mockingbird\", \"Harper Lee\", 281)\n",
    "book2 = Book(\"To Kill a Mockingbird\", \"Harper Lee\", 281)\n",
    "print(book1 == book2)"
   ]
  },
  {
   "cell_type": "code",
   "execution_count": 41,
   "id": "b90dd2b8",
   "metadata": {},
   "outputs": [
    {
     "name": "stdout",
     "output_type": "stream",
     "text": [
      "To Kill a Mockingbird by Harper Lee, 281 pages\n",
      "1984 by George Orwell, 328 pages\n"
     ]
    }
   ],
   "source": [
    "#Create a Library class with a list of books and a method to add new books.\n",
    "class Library:\n",
    "    def __init__(self):\n",
    "        self.books = []  \n",
    "    def add_book(self, book):\n",
    "        self.books.append(book)\n",
    "book1 = Book(\"To Kill a Mockingbird\", \"Harper Lee\", 281)\n",
    "book2 = Book(\"1984\", \"George Orwell\", 328)\n",
    "library = Library()\n",
    "library.add_book(book1)\n",
    "library.add_book(book2)\n",
    "for book in library.books:\n",
    "    print(f\"{book.title} by {book.author}, {book.pages} pages\")\n",
    "\n",
    "\n"
   ]
  },
  {
   "cell_type": "code",
   "execution_count": 42,
   "id": "cd0aa1cb",
   "metadata": {},
   "outputs": [
    {
     "name": "stdout",
     "output_type": "stream",
     "text": [
      "Total pages in library: 250\n"
     ]
    }
   ],
   "source": [
    "#Write a method in Library to count total pages of all books.\n",
    "class Library:\n",
    "    def __init__(self):\n",
    "        self.books = []\n",
    "    def add_book(self, book):\n",
    "        self.books.append(book)\n",
    "    def total_pages(self):\n",
    "        total = 0\n",
    "        for book in self.books:\n",
    "            total += book.pages\n",
    "        return total\n",
    "b1 = Book(\"Book A\", \"Author A\", 100)\n",
    "b2 = Book(\"Book B\", \"Author B\", 150)\n",
    "lib = Library()\n",
    "lib.add_book(b1)\n",
    "lib.add_book(b2)\n",
    "print(\"Total pages in library:\", lib.total_pages())\n"
   ]
  },
  {
   "cell_type": "code",
   "execution_count": 43,
   "id": "3fa8fcfc",
   "metadata": {},
   "outputs": [
    {
     "name": "stdout",
     "output_type": "stream",
     "text": [
      "'To Kill a Mockingbird' by Harper Lee - 281 pages\n",
      "'1984' by George Orwell - 328 pages\n",
      "Books in list: ['To Kill a Mockingbird' by Harper Lee - 281 pages, '1984' by George Orwell - 328 pages]\n"
     ]
    }
   ],
   "source": [
    "# Override _repr_() in the Book class to return a formatted book reference.\n",
    "class Book:\n",
    "    def __init__(self, title, author, pages):\n",
    "        self.title = title\n",
    "        self.author = author\n",
    "        self.pages = pages\n",
    "    def __repr__(self):\n",
    "        return f\"'{self.title}' by {self.author} - {self.pages} pages\"\n",
    "book1 = Book(\"To Kill a Mockingbird\", \"Harper Lee\", 281)\n",
    "book2 = Book(\"1984\", \"George Orwell\", 328)\n",
    "print(book1)\n",
    "print(book2)\n",
    "books = [book1, book2]\n",
    "print(\"Books in list:\", books)\n"
   ]
  },
  {
   "cell_type": "code",
   "execution_count": 44,
   "id": "76845d91",
   "metadata": {},
   "outputs": [
    {
     "name": "stdout",
     "output_type": "stream",
     "text": [
      "Type of object: <class '__main__.Book'>\n",
      "ID of object: 2337651331760\n"
     ]
    }
   ],
   "source": [
    "#Use the type() and id() functions on an object and explain what they return.\n",
    "class Book:\n",
    "    def __init__(self, title):\n",
    "        self.title = title\n",
    "b = Book(\"Harry Potter\")\n",
    "print(\"Type of object:\", type(b))\n",
    "print(\"ID of object:\", id(b))"
   ]
  }
 ],
 "metadata": {
  "kernelspec": {
   "display_name": "Python 3",
   "language": "python",
   "name": "python3"
  },
  "language_info": {
   "codemirror_mode": {
    "name": "ipython",
    "version": 3
   },
   "file_extension": ".py",
   "mimetype": "text/x-python",
   "name": "python",
   "nbconvert_exporter": "python",
   "pygments_lexer": "ipython3",
   "version": "3.13.5"
  }
 },
 "nbformat": 4,
 "nbformat_minor": 5
}
