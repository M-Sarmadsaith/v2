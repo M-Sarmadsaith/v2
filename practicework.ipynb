{
 "cells": [
  {
   "cell_type": "code",
   "execution_count": 14,
   "id": "8dd60405",
   "metadata": {},
   "outputs": [
    {
     "name": "stdout",
     "output_type": "stream",
     "text": [
      "the vehicle is moving:\n",
      "the vehicle is moving:\n"
     ]
    }
   ],
   "source": [
    "#Use inheritance by creating a Vehicle class with methods like move(); then subclass Car and Boat to extend.\n",
    "class Vehicle:\n",
    " def move(self):\n",
    "  print(\"the vehicle is moving:\")\n",
    "class Car(Vehicle):\n",
    "    pass\n",
    "class Boat(Vehicle):\n",
    "    pass\n",
    "c1=Car()\n",
    "c1.move()\n",
    "b1=Boat()\n",
    "b1.move()"
   ]
  },
  {
   "cell_type": "code",
   "execution_count": 13,
   "id": "3acc239d",
   "metadata": {},
   "outputs": [
    {
     "name": "stdout",
     "output_type": "stream",
     "text": [
      "car is moving on the road\n",
      "boat is sailing on the water\n"
     ]
    }
   ],
   "source": [
    "#Demonstrate method overriding by redefining move() behavior in Car and Boat.\n",
    "class Vehicle:\n",
    "    def move(self):\n",
    "        print(\"vehicle is moving\")\n",
    "class Car(Vehicle):\n",
    "    def move(self):\n",
    "        print(\"car is moving on the road\")\n",
    "class Boat(Vehicle):\n",
    "    def move(self):\n",
    "        print(\"boat is sailing on the water\")\n",
    "c1=Car()\n",
    "c1.move()\n",
    "b1=Boat()\n",
    "b1.move()\n"
   ]
  },
  {
   "cell_type": "code",
   "execution_count": 10,
   "id": "c1cf1991",
   "metadata": {},
   "outputs": [
    {
     "name": "stdout",
     "output_type": "stream",
     "text": [
      "v1 = (2, 4)\n",
      "v2 = (5, 1)\n",
      "v1 + v2 = (7, 5)\n"
     ]
    }
   ],
   "source": [
    "#Use operator overloading (_add_) in a Vector class to support vector addition using +.\n",
    "class Vector:\n",
    "    def __init__(self, x, y):\n",
    "        self.x = x\n",
    "        self.y = y\n",
    "    def __add__(self, other):  # must be inside the class\n",
    "        return Vector(self.x + other.x, self.y + other.y)\n",
    "    def __str__(self):  # must also be inside the class\n",
    "        return f\"({self.x}, {self.y})\"\n",
    "v1 = Vector(2, 4)\n",
    "v2 = Vector(5, 1)\n",
    "v3 = v1 + v2\n",
    "print(\"v1 =\", v1)\n",
    "print(\"v2 =\", v2)\n",
    "print(\"v1 + v2 =\", v3)"
   ]
  },
  {
   "cell_type": "code",
   "execution_count": 16,
   "id": "431e99c1",
   "metadata": {},
   "outputs": [
    {
     "name": "stdout",
     "output_type": "stream",
     "text": [
      "Car is driving on the road.\n",
      "Boat is sailing on the water.\n"
     ]
    }
   ],
   "source": [
    "#Implement polymorphism by creating a function describe_move(obj) that works for both Car and Boat.\n",
    "class Vehicle:\n",
    "    def move(self):\n",
    "        print(\"Vehicle is moving.\")\n",
    "class Car(Vehicle):\n",
    "    def move(self):\n",
    "        print(\"Car is driving on the road.\")\n",
    "class Boat(Vehicle):\n",
    "    def move(self):\n",
    "        print(\"Boat is sailing on the water.\")\n",
    "def describe_move(obj):\n",
    "    obj.move()\n",
    "car1 = Car()\n",
    "boat1 = Boat()\n",
    "describe_move(car1)\n",
    "describe_move(boat1)"
   ]
  },
  {
   "cell_type": "code",
   "execution_count": 17,
   "id": "6664584b",
   "metadata": {},
   "outputs": [
    {
     "name": "stdout",
     "output_type": "stream",
     "text": [
      "5\n",
      "9\n",
      "11\n"
     ]
    }
   ],
   "source": [
    "#Implement method overloading behavior using default parameters or *args/kwargs.\n",
    "class Calculator:\n",
    "    def add(self, *args, **kwargs):\n",
    "        total = sum(args)  \n",
    "        if \"extra\" in kwargs: \n",
    "            total += kwargs[\"extra\"]\n",
    "        return total\n",
    "c1 = Calculator()\n",
    "print(c1.add(2, 3))                  \n",
    "print(c1.add(2, 3, 4))               \n",
    "print(c1.add(1, 2, 3, extra=5)) \n"
   ]
  },
  {
   "cell_type": "code",
   "execution_count": 18,
   "id": "64b4679e",
   "metadata": {},
   "outputs": [
    {
     "name": "stdout",
     "output_type": "stream",
     "text": [
      "Circle area: 78.53981633974483\n",
      "Square area: 16\n"
     ]
    }
   ],
   "source": [
    "# Create a Shape abstract class using abc module with an abstract method area(), then subclass Circle and Square.# Override _str_() in both shapes to return friendly descriptions.\n",
    "from abc import ABC, abstractmethod\n",
    "import math\n",
    "class Shape(ABC):\n",
    "    @abstractmethod\n",
    "    def area(self):\n",
    "        pass \n",
    "class Circle(Shape):\n",
    "    def __init__(self, radius):\n",
    "        self.radius = radius\n",
    "    def area(self):\n",
    "        return math.pi * (self.radius ** 2)\n",
    "class Square(Shape):\n",
    "    def __init__(self, side):\n",
    "        self.side = side\n",
    "    def area(self):\n",
    "        return self.side * self.side\n",
    "circle = Circle(5)\n",
    "square = Square(4)\n",
    "print(\"Circle area:\", circle.area())\n",
    "print(\"Square area:\", square.area())\n"
   ]
  },
  {
   "cell_type": "code",
   "execution_count": 20,
   "id": "d9a52123",
   "metadata": {},
   "outputs": [
    {
     "name": "stdout",
     "output_type": "stream",
     "text": [
      "4\n"
     ]
    }
   ],
   "source": [
    "#Use magic methods (__len__()) in a custom Group class to return size.\n",
    "class Team:\n",
    "    def __init__(self, members):\n",
    "        self.members = members\n",
    "    def __len__(self):\n",
    "        return len(self.members)\n",
    "t1 = Team([\"Ayesha\", \"Sara\", \"Hina\", \"Nida\"])\n",
    "print(len(t1))"
   ]
  },
  {
   "cell_type": "code",
   "execution_count": 21,
   "id": "bde36315",
   "metadata": {},
   "outputs": [
    {
     "name": "stdout",
     "output_type": "stream",
     "text": [
      "Ali\n",
      "Created at: 2025-08-15 13:52:47.479832\n"
     ]
    }
   ],
   "source": [
    "#Apply a class decorator that adds a created_at timestamp attribute to classes upon instantiation using datetime.now().\n",
    "from datetime import datetime\n",
    "def add_timestamp(cls):\n",
    "    old_init = cls.__init__\n",
    "    def new_init(self, *args, **kwargs):\n",
    "        self.created_at = datetime.now()\n",
    "        old_init(self, *args, **kwargs)\n",
    "    cls.__init__ = new_init\n",
    "    return cls\n",
    "@add_timestamp\n",
    "class Person:\n",
    "    def __init__(self, name):\n",
    "        self.name = name\n",
    "p1 = Person(\"Ali\")\n",
    "print(p1.name)\n",
    "print(\"Created at:\", p1.created_at)"
   ]
  }
 ],
 "metadata": {
  "kernelspec": {
   "display_name": "Python 3",
   "language": "python",
   "name": "python3"
  },
  "language_info": {
   "codemirror_mode": {
    "name": "ipython",
    "version": 3
   },
   "file_extension": ".py",
   "mimetype": "text/x-python",
   "name": "python",
   "nbconvert_exporter": "python",
   "pygments_lexer": "ipython3",
   "version": "3.13.5"
  }
 },
 "nbformat": 4,
 "nbformat_minor": 5
}
